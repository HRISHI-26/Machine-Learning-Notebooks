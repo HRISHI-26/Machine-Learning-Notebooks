{
 "cells": [
  {
   "cell_type": "code",
   "execution_count": 1,
   "id": "4796f7be-3b2c-487a-8db9-ac9b01161392",
   "metadata": {},
   "outputs": [],
   "source": [
    "# Numpy  = Numerical Python\n",
    "# Related to multidimensional arrays\n",
    "\n",
    "# FEATURES\n",
    "    # Speed\n",
    "    # Large Homogenous Data Handling\n",
    "    # Reduced Memory Consumption\n",
    "\n",
    "# 0-d -> Scalar\n",
    "# 1-d -> Vector\n",
    "# 2-d -> Matrix\n",
    "# N-d -> Tensor\n",
    "\n",
    "# Restrictions:\n",
    "    # Homogenous Data \n",
    "    # Immutable Element Size\n",
    "    # Rectangular Shape\n",
    "\n",
    "# DIMENSION = AXIS\n"
   ]
  },
  {
   "cell_type": "code",
   "execution_count": 2,
   "id": "cb69a6e1-f787-46cb-a6ab-6e31b1dbe7b6",
   "metadata": {},
   "outputs": [
    {
     "name": "stdout",
     "output_type": "stream",
     "text": [
      "[1 2 3 4 5]\n",
      "[[1 2 3 4]\n",
      " [0 9 8 7]\n",
      " [2 4 6 7]]\n"
     ]
    }
   ],
   "source": [
    "# Importing\n",
    "import numpy as np\n",
    "\n",
    "# Array Initialization\n",
    "a = np.array([1, 2, 3, 4, 5])\n",
    "b = np.array([\n",
    "    [1, 2, 3, 4],\n",
    "    [0, 9, 8, 7],\n",
    "    [2, 4, 6, 7],\n",
    "])\n",
    "\n",
    "print(a)\n",
    "print(b)"
   ]
  },
  {
   "cell_type": "code",
   "execution_count": 3,
   "id": "ea132d58-52a2-4eed-a847-7a80ece4ba3e",
   "metadata": {},
   "outputs": [
    {
     "name": "stdout",
     "output_type": "stream",
     "text": [
      "1\n",
      "5\n",
      "[1 2]\n",
      "[3 4 5]\n"
     ]
    }
   ],
   "source": [
    "# Accessing numpy arrays\n",
    "\n",
    "print(a[0])\n",
    "print(a[-1])\n",
    "print(a[:2])\n",
    "print(a[2:])"
   ]
  },
  {
   "cell_type": "code",
   "execution_count": 4,
   "id": "283d26ea-6925-434a-888d-2ea7a8428eae",
   "metadata": {},
   "outputs": [
    {
     "name": "stdout",
     "output_type": "stream",
     "text": [
      "1\n",
      "[1 2 3 4]\n"
     ]
    }
   ],
   "source": [
    "print(b[0,0])\n",
    "print(b[0,0:])"
   ]
  },
  {
   "cell_type": "code",
   "execution_count": 5,
   "id": "3b85920c-b243-4faf-9d5b-1e1d008f8dd3",
   "metadata": {},
   "outputs": [
    {
     "name": "stdout",
     "output_type": "stream",
     "text": [
      "1\n",
      "2\n",
      "(5,)\n",
      "(3, 4)\n",
      "5\n",
      "12\n",
      "int64\n",
      "int64\n"
     ]
    }
   ],
   "source": [
    "# Attributes of Array\n",
    "\n",
    "# To Get Dimension or Axis\n",
    "print(a.ndim)\n",
    "print(b.ndim)\n",
    "\n",
    "# To Get Order of Array\n",
    "print(a.shape)\n",
    "print(b.shape)\n",
    "\n",
    "# To get Total No of elements\n",
    "print(a.size)\n",
    "print(b.size)\n",
    "\n",
    "# To get Datatype of Array\n",
    "print(a.dtype)\n",
    "print(b.dtype)"
   ]
  },
  {
   "cell_type": "code",
   "execution_count": 6,
   "id": "df1a9889-273b-4e28-b12c-a2ba8b28e985",
   "metadata": {},
   "outputs": [
    {
     "name": "stdout",
     "output_type": "stream",
     "text": [
      "[0. 0. 0. 0. 0.]\n",
      "[1. 1. 1. 1. 1.]\n",
      "[ 5.55251295e-238 -9.30742058e-218]\n",
      "[0 1 2 3 4]\n",
      "[10.   13.75 17.5  21.25 25.  ]\n",
      "[1 1 1 1 1]\n"
     ]
    }
   ],
   "source": [
    "# Basic Array Types\n",
    "\n",
    "    # Array of Zero's\n",
    "print(np.zeros(5))\n",
    "    # Array of One's\n",
    "print(np.ones(5))\n",
    "    # Array of Random Values\n",
    "print(np.empty(2))\n",
    "    # Array of first 'n' whole numbers\n",
    "print(np.arange(5))\n",
    "    # Array from i - f spaced evenly (common difference)\n",
    "print(np.linspace(10, 25, num=5))\n",
    "\n",
    "\n",
    "    # Array of Ones with dtype specified\n",
    "print(np.ones(5, dtype=int))\n"
   ]
  },
  {
   "cell_type": "code",
   "execution_count": 15,
   "id": "27c8d6f4-1c0d-4963-925d-ec8e694c0623",
   "metadata": {},
   "outputs": [
    {
     "name": "stdout",
     "output_type": "stream",
     "text": [
      "[5.55251295e-238 9.30742058e-218]\n",
      "[1 2 3 4 5 6]\n"
     ]
    }
   ],
   "source": [
    "# Basic Operations\n",
    "# Sort and Concatenate\n",
    "\n",
    "# Sorting\n",
    "arr = np.empty(2)\n",
    "print(arr)\n",
    "np.sort(arr)\n",
    "\n",
    "\n",
    "# Concatenating\n",
    "ar = np.array([1, 2, 3])\n",
    "br = np.array([4, 5, 6])\n",
    "\n",
    "print(np.concatenate((ar, br)))"
   ]
  },
  {
   "cell_type": "code",
   "execution_count": 20,
   "id": "a882f700-0eda-427b-b420-5e89cf3c88d7",
   "metadata": {},
   "outputs": [
    {
     "name": "stdout",
     "output_type": "stream",
     "text": [
      "int64\n",
      "3\n",
      "(3, 2, 4)\n",
      "24\n"
     ]
    }
   ],
   "source": [
    "# A Basic Example of 3 dimensional array\n",
    "\n",
    "array_example = np.array([[\n",
    "    [1,2,3,4],\n",
    "    [2,4,6,8],],\n",
    "    [[10, 20, 30, 40],\n",
    "     [20, 40, 60, 80]],\n",
    "    [[100, 200, 300, 400],\n",
    "     [200, 400, 600, 800]] ])\n",
    "\n",
    "print(array_example.dtype)\n",
    "print(array_example.ndim)\n",
    "print(array_example.shape)\n",
    "print(array_example.size)"
   ]
  },
  {
   "cell_type": "code",
   "execution_count": 25,
   "id": "c3cbafef-074d-4474-910d-a02888a479fc",
   "metadata": {},
   "outputs": [
    {
     "name": "stdout",
     "output_type": "stream",
     "text": [
      "[[  1   2   3   4   2   4]\n",
      " [  6   8  10  20  30  40]\n",
      " [ 20  40  60  80 100 200]\n",
      " [300 400 200 400 600 800]]\n",
      "[[  1   2   3   4   2   4   6   8  10  20  30  40]\n",
      " [ 20  40  60  80 100 200 300 400 200 400 600 800]]\n"
     ]
    }
   ],
   "source": [
    "# Reshaping an Array\n",
    "\n",
    "print(array_example.reshape(4,6))\n",
    "\n",
    "print(array_example.reshape(2,12))"
   ]
  },
  {
   "cell_type": "code",
   "execution_count": null,
   "id": "9073a1c9-a2f8-4303-87af-ab802c491f41",
   "metadata": {},
   "outputs": [],
   "source": []
  }
 ],
 "metadata": {
  "kernelspec": {
   "display_name": "Python [conda env:base] *",
   "language": "python",
   "name": "conda-base-py"
  },
  "language_info": {
   "codemirror_mode": {
    "name": "ipython",
    "version": 3
   },
   "file_extension": ".py",
   "mimetype": "text/x-python",
   "name": "python",
   "nbconvert_exporter": "python",
   "pygments_lexer": "ipython3",
   "version": "3.13.5"
  },
  "widgets": {
   "application/vnd.jupyter.widget-state+json": {
    "state": {},
    "version_major": 2,
    "version_minor": 0
   }
  }
 },
 "nbformat": 4,
 "nbformat_minor": 5
}
