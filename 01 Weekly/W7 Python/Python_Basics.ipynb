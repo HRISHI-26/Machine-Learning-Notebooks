{
 "cells": [
  {
   "cell_type": "code",
   "execution_count": 1,
   "id": "b3135877-f961-4ea9-bc96-255ae7e2a839",
   "metadata": {},
   "outputs": [
    {
     "name": "stdout",
     "output_type": "stream",
     "text": [
      "[     0      1      2 ... 999997 999998 999999]\n"
     ]
    }
   ],
   "source": [
    "import numpy as np\n",
    "\n",
    "my_arr = np.arange(1_000_000)\n",
    "\n",
    "my_list = list(range(1_000_000))\n",
    "\n",
    "print(my_arr)"
   ]
  },
  {
   "cell_type": "code",
   "execution_count": 2,
   "id": "6034eca2-f32a-40d7-8bf2-f5858a692624",
   "metadata": {},
   "outputs": [
    {
     "name": "stdout",
     "output_type": "stream",
     "text": [
      "1.15 ms ± 12.2 μs per loop (mean ± std. dev. of 7 runs, 1,000 loops each)\n",
      "37.5 ms ± 196 μs per loop (mean ± std. dev. of 7 runs, 10 loops each)\n"
     ]
    }
   ],
   "source": [
    "%timeit my_arr2 = my_arr * 2\n",
    "\n",
    "%timeit my_list2 = [x * 2 for x in my_list]"
   ]
  },
  {
   "cell_type": "code",
   "execution_count": 3,
   "id": "b4bab6ed-b887-42b2-83ae-a8969a8f0578",
   "metadata": {},
   "outputs": [
    {
     "name": "stdout",
     "output_type": "stream",
     "text": [
      "[[1. 0. 0.]\n",
      " [0. 1. 0.]\n",
      " [0. 0. 1.]]\n"
     ]
    }
   ],
   "source": [
    "arr = np.identity(3)\n",
    "print(arr)"
   ]
  },
  {
   "cell_type": "code",
   "execution_count": 4,
   "id": "d58f9191-36f3-4900-8ac9-4c02b20166fe",
   "metadata": {},
   "outputs": [
    {
     "name": "stdout",
     "output_type": "stream",
     "text": [
      "[[ True False False False False False False False False False]\n",
      " [False  True False False False False False False False False]\n",
      " [False False  True False False False False False False False]\n",
      " [False False False  True False False False False False False]\n",
      " [False False False False  True False False False False False]\n",
      " [False False False False False  True False False False False]\n",
      " [False False False False False False  True False False False]\n",
      " [False False False False False False False  True False False]\n",
      " [False False False False False False False False  True False]\n",
      " [False False False False False False False False False  True]]\n"
     ]
    }
   ],
   "source": [
    "\n",
    "a = np.identity(10, dtype='bool')\n",
    "print(a)"
   ]
  },
  {
   "cell_type": "code",
   "execution_count": 5,
   "id": "e15464e8-57dd-4e42-89bd-e1376ad71cb9",
   "metadata": {},
   "outputs": [
    {
     "name": "stdout",
     "output_type": "stream",
     "text": [
      "[0 1 2 3 4 5 6 7 8 9]\n"
     ]
    }
   ],
   "source": [
    "new = np.arange(10)\n",
    "\n",
    "print(new)"
   ]
  },
  {
   "cell_type": "code",
   "execution_count": 46,
   "id": "8f889322-98f6-4e0d-a635-74e568803b16",
   "metadata": {},
   "outputs": [
    {
     "name": "stdout",
     "output_type": "stream",
     "text": [
      "0    2\n",
      "1    4\n",
      "2    6\n",
      "3    8\n",
      "4    8\n",
      "5    8\n",
      "6    4\n",
      "7    4\n",
      "8    4\n",
      "dtype: int64\n",
      "count    9.000000\n",
      "mean     5.333333\n",
      "std      2.236068\n",
      "min      2.000000\n",
      "25%      4.000000\n",
      "50%      4.000000\n",
      "75%      8.000000\n",
      "max      8.000000\n",
      "dtype: float64\n"
     ]
    },
    {
     "data": {
      "text/plain": [
       "<pandas.core.groupby.generic.DataFrameGroupBy object at 0x1348d2c90>"
      ]
     },
     "execution_count": 46,
     "metadata": {},
     "output_type": "execute_result"
    }
   ],
   "source": [
    "import pandas as pd\n",
    "\n",
    "data = pd.Series([2,4,6,8,8,8,4,4,4])\n",
    "print(data)\n",
    "print(data.describe())\n",
    "data.groupby(data)\n",
    "# print(data.median())\n",
    "\n",
    "\n",
    "\n",
    "\n",
    "df = pd.DataFrame({'Animal': ['Falcon', 'Falcon',\n",
    "                              'Parrot', 'Parrot'],\n",
    "                   'Max Speed': [380., 370., 24., 26.]})\n",
    "\n",
    "df.groupby(['Animal'])"
   ]
  },
  {
   "cell_type": "code",
   "execution_count": 12,
   "id": "9748ca63-2c1d-479c-ae45-d5c78e86200d",
   "metadata": {},
   "outputs": [
    {
     "name": "stdout",
     "output_type": "stream",
     "text": [
      "[[1. 0. 0.]\n",
      " [0. 1. 0.]\n",
      " [0. 0. 1.]]\n"
     ]
    }
   ],
   "source": [
    "hello = np.eye(3)\n",
    "print(hello)"
   ]
  },
  {
   "cell_type": "code",
   "execution_count": 55,
   "id": "ca6b53dc-45d4-498b-9903-e95b162d469b",
   "metadata": {},
   "outputs": [
    {
     "name": "stdout",
     "output_type": "stream",
     "text": [
      "19\n",
      "20\n",
      "33\n",
      "40\n",
      "51\n",
      "20\n",
      "-------------------------------------\n",
      "20\n",
      "40\n",
      "20\n",
      "-------------------------------------\n",
      "-------------------------------------\n",
      "-------------------------------------\n",
      "[361, 400, 1089, 1600, 2601, 400]\n",
      "-------------------------------------\n",
      "[19, 33, 51]\n"
     ]
    }
   ],
   "source": [
    "# List\n",
    "\n",
    "arr = [19, 20, 33, 40, 51, 20]\n",
    "\n",
    "# Print each element of a list using a for loop\n",
    "for i in arr:\n",
    "    print(i)\n",
    "print(\"-------------------------------------\")\n",
    "\n",
    "# Print only the even numbers from a list.\n",
    "for i in arr:\n",
    "    if i%2 == 0:\n",
    "        print(i)\n",
    "\n",
    "print(\"-------------------------------------\")\n",
    "# Calculate the sum of all elements in a list.\n",
    "sum(arr)\n",
    "print(\"-------------------------------------\")\n",
    "\n",
    "# Count how many times a particular number (e.g., 5) appears in a list.\n",
    "arr.count(20)\n",
    "\n",
    "print(\"-------------------------------------\")\n",
    "# Create a new list with the squares of numbers from 1 to 10 using list comprehension.\n",
    "\n",
    "new = [i**2 for i in arr]\n",
    "print(new)\n",
    "print(\"-------------------------------------\")\n",
    "\n",
    "# From a list of numbers, create a new list that contains only the odd numbers.\n",
    "new = [i for i in arr if i%2 != 0]\n",
    "print(new)\n",
    "print(\"-------------------------------------\")\n",
    "\n"
   ]
  },
  {
   "cell_type": "code",
   "execution_count": 75,
   "id": "3a552f4d-d48e-464a-9671-3d0ed947420e",
   "metadata": {},
   "outputs": [
    {
     "name": "stdout",
     "output_type": "stream",
     "text": [
      "6\n",
      "-------------------------------------\n",
      "[1, 2, 3]\n",
      "[2, 4, 6]\n",
      "[3, 6, 9]\n",
      "-------------------------------------\n",
      "6\n",
      "12\n",
      "18\n",
      "-------------------------------------\n",
      "[1, 2, 3, 2, 4, 6, 3, 6, 9]\n",
      "-------------------------------------\n",
      "[1, 2, 3, 2, 4, 6, 3, 6, 9]\n",
      "-------------------------------------\n",
      "[1, 2, 2, 3, 3, 4, 6, 6, 9]\n",
      "[9, 6, 6, 4, 3, 3, 2, 2, 1]\n"
     ]
    }
   ],
   "source": [
    "# Create a 2D list (matrix) with 3 rows and 3 columns filled with numbers.\n",
    "\n",
    "matrix = [\n",
    "    [1,2,3],\n",
    "    [2,4,6],\n",
    "    [3,6,9]\n",
    "]\n",
    "\n",
    "# Access the element at row 2, column 3 of a 2D list.\n",
    "print(matrix[1][2])\n",
    "print(\"-------------------------------------\")\n",
    "\n",
    "\n",
    "# Write a program to print each row of a 2D list using nested loops.\n",
    "for i in matrix:\n",
    "    print(i)\n",
    "print(\"-------------------------------------\")\n",
    "\n",
    "# Calculate the sum of each row in a 2D list.\n",
    "for i in matrix:\n",
    "    print(sum(i))\n",
    "print(\"-------------------------------------\")\n",
    "\n",
    "# Flatten a 2D list into a 1D list.\n",
    "listed = []\n",
    "for i in matrix:\n",
    "    for j in i:\n",
    "        listed.append(j)\n",
    "print(listed)\n",
    "print(\"-------------------------------------\")\n",
    "\n",
    "listed = [j for i in matrix for j in i]\n",
    "print(listed)\n",
    "print(\"-------------------------------------\")\n",
    "\n",
    "# Sort a list in ascending and descending order.\n",
    "for i in range(0,len(listed)-1):\n",
    "    for j in range(i,len(listed)):\n",
    "        if listed[i] > listed[j]:\n",
    "            listed[i], listed[j] = listed[j], listed[i]\n",
    "\n",
    "print(listed)\n",
    "\n",
    "for i in range(0,len(listed)-1):\n",
    "    for j in range(i,len(listed)):\n",
    "        if listed[i] < listed[j]:\n",
    "            listed[i], listed[j] = listed[j], listed[i]\n",
    "print(listed)"
   ]
  },
  {
   "cell_type": "code",
   "execution_count": 79,
   "id": "7e1fa45b-4fc5-4852-ac40-f62f75763d61",
   "metadata": {},
   "outputs": [
    {
     "name": "stdout",
     "output_type": "stream",
     "text": [
      "[1, 2, 3, 4, 6, 9]\n",
      "[1, 2, 3, 4, 6, 9, 19, 20, 33, 40, 51, 20]\n",
      "51\n",
      "1\n"
     ]
    }
   ],
   "source": [
    "# Remove duplicates from a list.\n",
    "dupe = set(listed)\n",
    "listed = list(dupe)\n",
    "print(listed)\n",
    "\n",
    "# Merge two lists into one.\n",
    "new = listed + arr\n",
    "print(new)\n",
    "\n",
    "# Find the maximum and minimum element in a list.\n",
    "print(max(new))\n",
    "print(min(new))"
   ]
  },
  {
   "cell_type": "code",
   "execution_count": 82,
   "id": "4e9e9bf2-8c32-409d-b031-70d2ee9fa5f5",
   "metadata": {},
   "outputs": [
    {
     "name": "stdout",
     "output_type": "stream",
     "text": [
      "[1, 2, 3, 4, 5, -1, -1, -1, -1, -1]\n"
     ]
    }
   ],
   "source": [
    "# Replace all negative numbers in a list with 0.\n",
    "\n",
    "arr = [1,2,3,4,5,-1,-2,-3,-4,-5]\n",
    "\n",
    "# <list_name> = [<exppression> if <condition> else <expression> for <variable> in <collection>]\n",
    "arr = [-1 if i < 0 else i for i in arr]\n",
    "print(arr)"
   ]
  },
  {
   "cell_type": "code",
   "execution_count": 85,
   "id": "c01310b9-d1b6-4df4-9be5-ccaeced0ee5f",
   "metadata": {},
   "outputs": [
    {
     "name": "stdout",
     "output_type": "stream",
     "text": [
      "[2, 4]\n",
      "[1, 9, 25]\n"
     ]
    }
   ],
   "source": [
    "\n",
    "new = [i for i in arr if i%2 == 0]\n",
    "print(new)\n",
    "\n",
    "new = [i**2 for i in arr if i%2==1 and i > 0]\n",
    "print(new)\n"
   ]
  },
  {
   "cell_type": "code",
   "execution_count": 95,
   "id": "64b1ff4c-4ba9-4e93-8839-bfca8880f9e6",
   "metadata": {},
   "outputs": [
    {
     "name": "stdout",
     "output_type": "stream",
     "text": [
      "[10, 20, 100, 40, 50]\n",
      "[50, 20, 100, 40, 10]\n",
      "False\n"
     ]
    },
    {
     "name": "stdin",
     "output_type": "stream",
     "text": [
      "Enter an element:  20\n"
     ]
    },
    {
     "name": "stdout",
     "output_type": "stream",
     "text": [
      "1\n",
      "[100]\n",
      "50\n",
      "['alan', 'akhila']\n"
     ]
    }
   ],
   "source": [
    "nums = [10, 20, 30, 40, 50]\n",
    "\n",
    "# update the value at index 2 to 100\n",
    "nums[2] = 100\n",
    "print(nums)\n",
    "\n",
    "# Swap the first and last elements of a list.\n",
    "nums[0], nums[-1] = nums[-1], nums[0]\n",
    "print(nums)\n",
    "\n",
    "# Check if a number 25 exists in a list.\n",
    "print(25 in nums)\n",
    "\n",
    "# Write a program to find the index of a given element in a list.\n",
    "check = int(input(\"Enter an element: \"))\n",
    "index = nums.index(check)\n",
    "print(index)\n",
    "\n",
    "# Write a function that returns all numbers greater than 50 from a list.\n",
    "new = [i for i in nums if i > 50]\n",
    "print(new)\n",
    "\n",
    "# Write a function to find the second largest number in a list.\n",
    "max = 0\n",
    "for i in nums:\n",
    "    if i > max:\n",
    "        premax = max\n",
    "        max = i\n",
    "\n",
    "print(premax)\n",
    "\n",
    "\n",
    "# Given a list of strings, return only the strings that start with \"a\".\n",
    "names = [\"alan\", \"basil\", \"helen\", \"boby\", \"robin\", \"akhila\"]\n",
    "wprint([i for i in names if i.startswith(\"a\")])"
   ]
  },
  {
   "cell_type": "code",
   "execution_count": null,
   "id": "40cb8d58-b5e7-4ced-a93f-5e7bac105110",
   "metadata": {},
   "outputs": [],
   "source": []
  },
  {
   "cell_type": "code",
   "execution_count": null,
   "id": "13f84929-fec1-47f1-adc5-738887632880",
   "metadata": {},
   "outputs": [],
   "source": []
  },
  {
   "cell_type": "code",
   "execution_count": null,
   "id": "2e9201b3-5bb7-49c8-a08d-58302aabf07b",
   "metadata": {},
   "outputs": [],
   "source": []
  }
 ],
 "metadata": {
  "kernelspec": {
   "display_name": "Python [conda env:base] *",
   "language": "python",
   "name": "conda-base-py"
  },
  "language_info": {
   "codemirror_mode": {
    "name": "ipython",
    "version": 3
   },
   "file_extension": ".py",
   "mimetype": "text/x-python",
   "name": "python",
   "nbconvert_exporter": "python",
   "pygments_lexer": "ipython3",
   "version": "3.13.5"
  },
  "widgets": {
   "application/vnd.jupyter.widget-state+json": {
    "state": {},
    "version_major": 2,
    "version_minor": 0
   }
  }
 },
 "nbformat": 4,
 "nbformat_minor": 5
}
