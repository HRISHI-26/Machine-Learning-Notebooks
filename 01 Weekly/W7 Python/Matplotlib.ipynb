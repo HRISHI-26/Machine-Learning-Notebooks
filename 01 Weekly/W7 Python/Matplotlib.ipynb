{
 "cells": [
  {
   "cell_type": "code",
   "execution_count": 33,
   "id": "41fd5ae5-fd90-4450-9794-2ac4063f721b",
   "metadata": {},
   "outputs": [
    {
     "name": "stdout",
     "output_type": "stream",
     "text": [
      "[1, 2, 3, 4, 5, 6, 7, 8, 9, 10, 11, 12, 13, 14, 15, 16, 17, 18, 19, 20, 21, 22, 23, 24, 25, 26, 27, 28, 29, 30]\n",
      "[1, 3, 5, 7, 9, 11, 13, 15, 17, 19, 21, 23, 25, 27, 29]\n",
      "[-1, 2, -1, 4, -1, 6, -1, 8, -1, 10, -1, 12, -1, 14, -1, 16, -1, 18, -1, 20, -1, 22, -1, 24, -1, 26, -1, 28, -1, 30]\n"
     ]
    }
   ],
   "source": [
    "arr = [i for i in range(1,31)]\n",
    "print(arr)\n",
    "\n",
    "odd = [i for i in arr if i%2!=0]\n",
    "print(odd)\n",
    "\n",
    "neg = [-1 if i%2!=0 else i for i in arr]\n",
    "print(neg)\n",
    "\n",
    "# dim = []\n",
    "# for i in range(0, len(arr)):\n",
    "#     if i < len(arr)/2:\n",
    "#         element = arr[i]\n",
    "#         dim.append(element)\n",
    "#     dim.append(arr[i])\n",
    "# print(arr)"
   ]
  },
  {
   "cell_type": "code",
   "execution_count": 42,
   "id": "1e6a8c9c-391e-4b3f-bbb3-36ff88c8c279",
   "metadata": {},
   "outputs": [
    {
     "name": "stdout",
     "output_type": "stream",
     "text": [
      "[1, 2, 3, 4, 5]\n"
     ]
    }
   ],
   "source": [
    "# # Given a sorted list, remove duplicates in-place and return the length of the updated list.\n",
    "\n",
    "brr = [1,2,2,3,3,4,5]\n",
    "\n",
    "count = []\n",
    "for i in brr:\n",
    "    if i not in count:\n",
    "        count.append(i)\n",
    "\n",
    "\n",
    "print(count)"
   ]
  },
  {
   "cell_type": "code",
   "execution_count": 39,
   "id": "e330d482-1ee4-4d42-8378-e7031f536d8a",
   "metadata": {},
   "outputs": [],
   "source": [
    "# X_data = np.random.random(100) *100\n",
    "# y_data = np.random.random(100) *100\n",
    "\n",
    "# plt.scatter(X_data, y_data, c='black', marker=\"*\", s=150, alpha=0.4)\n",
    "# plt.show()"
   ]
  },
  {
   "cell_type": "code",
   "execution_count": 26,
   "id": "12a11527-644a-42a3-9a09-8a2bbc76d1a6",
   "metadata": {},
   "outputs": [],
   "source": [
    "# years = [2006+i for i in range(8)]\n",
    "# weights = [80, 79, 78, 80, 84, 82, 80, 89]\n",
    "\n",
    "# plt.plot(years, weights, c=\"red\", marker=\".\", lw=2, linestyle=\"--\")\n",
    "# plt.show()"
   ]
  },
  {
   "cell_type": "code",
   "execution_count": 28,
   "id": "57da5d64-b214-44fb-a125-88ba5b0703f2",
   "metadata": {},
   "outputs": [
    {
     "name": "stdin",
     "output_type": "stream",
     "text": [
      "Enter 2 numbers:  20\n",
      " 20\n"
     ]
    },
    {
     "name": "stdout",
     "output_type": "stream",
     "text": [
      "1. Addition\n",
      "2. Substraction\n",
      "3. Multiplication\n",
      "4. Division\n"
     ]
    },
    {
     "name": "stdin",
     "output_type": "stream",
     "text": [
      "Enter your choice:  4\n"
     ]
    },
    {
     "name": "stdout",
     "output_type": "stream",
     "text": [
      "1.0\n"
     ]
    }
   ],
   "source": [
    "num1 = int(input(\"Enter 2 numbers: \"))\n",
    "num2 = int(input())\n",
    "\n",
    "print(\"1. Addition\")\n",
    "print(\"2. Substraction\")\n",
    "print(\"3. Multiplication\")\n",
    "print(\"4. Division\")\n",
    "\n",
    "choice = int(input(\"Enter your choice: \"))\n",
    "\n",
    "if choice == 1:\n",
    "    print(num1+num2)\n",
    "elif choice == 2:\n",
    "    print(num1-num2)\n",
    "elif choice == 3:\n",
    "    print(num1 * num2)\n",
    "elif choice == 4:\n",
    "    print(num1 / num2)\n",
    "else:\n",
    "    print(\"Invalid choice\")"
   ]
  },
  {
   "cell_type": "code",
   "execution_count": null,
   "id": "808fc639-8cf3-4bb8-ae76-f51a393ef88f",
   "metadata": {},
   "outputs": [],
   "source": []
  }
 ],
 "metadata": {
  "kernelspec": {
   "display_name": "Python [conda env:base] *",
   "language": "python",
   "name": "conda-base-py"
  },
  "language_info": {
   "codemirror_mode": {
    "name": "ipython",
    "version": 3
   },
   "file_extension": ".py",
   "mimetype": "text/x-python",
   "name": "python",
   "nbconvert_exporter": "python",
   "pygments_lexer": "ipython3",
   "version": "3.13.5"
  },
  "widgets": {
   "application/vnd.jupyter.widget-state+json": {
    "state": {},
    "version_major": 2,
    "version_minor": 0
   }
  }
 },
 "nbformat": 4,
 "nbformat_minor": 5
}
