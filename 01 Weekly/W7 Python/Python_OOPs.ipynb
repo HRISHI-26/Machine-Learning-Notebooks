{
 "cells": [
  {
   "cell_type": "code",
   "execution_count": 1,
   "id": "101dd5d0-45d0-408c-938f-75feb6b88743",
   "metadata": {},
   "outputs": [
    {
     "name": "stdout",
     "output_type": "stream",
     "text": [
      "Hello Python\n"
     ]
    }
   ],
   "source": [
    "# Defining a class\n",
    "\n",
    "class Hello:\n",
    "    # self is for representing object so its mandatory for every function created\n",
    "    def say_hello(self, name):\n",
    "        print(\"Hello \" + name)\n",
    "\n",
    "\n",
    "obj = Hello()\n",
    "obj.say_hello(\"Python\")"
   ]
  },
  {
   "cell_type": "code",
   "execution_count": 4,
   "id": "18776e27-409a-41fd-8cfd-19906af1dccc",
   "metadata": {},
   "outputs": [
    {
     "name": "stdout",
     "output_type": "stream",
     "text": [
      "helloooooi\n"
     ]
    }
   ],
   "source": [
    "# Defining a constructor\n",
    "class Hi:\n",
    "    # ____init__ is constructor \n",
    "    def __init__(self, name, age, place):\n",
    "        self.name = name\n",
    "        self.age = age\n",
    "        self.place = place\n",
    "        print(\"helloooooi\")\n",
    "\n",
    "\n",
    "obj1 = Hi(\"Python\", 20, \"English\")"
   ]
  },
  {
   "cell_type": "code",
   "execution_count": null,
   "id": "847f9d49-83d4-44a4-913f-7b057d7f747c",
   "metadata": {},
   "outputs": [],
   "source": [
    "# self.variable = object variable \n",
    "# classVariable = static variable = independent of object\n",
    "# @classmethod -> used for modifying classVariable"
   ]
  },
  {
   "cell_type": "code",
   "execution_count": 10,
   "id": "116d4389-4dd7-48b6-be06-d885d9de49ed",
   "metadata": {},
   "outputs": [
    {
     "name": "stdout",
     "output_type": "stream",
     "text": [
      "Base Class Init Constructor\n",
      "Hello\n",
      "Base Class Init Constructor\n",
      "Sub Class Init Constructor\n",
      "Welcome..\n",
      "Name: Python\n"
     ]
    }
   ],
   "source": [
    "# Inheritance\n",
    "class BaseClass:\n",
    "    def __init__(self):\n",
    "        print(\"Base Class Init Constructor\")\n",
    "        \n",
    "    def display(self):\n",
    "        print(\"Hello\")\n",
    "\n",
    "    def set_name(self, name):\n",
    "        self.name = name\n",
    "\n",
    "class SubClass(BaseClass):\n",
    "    def __init__(self):\n",
    "        super().__init__()\n",
    "        print(\"Sub Class Init Constructor\")\n",
    "    def welcome(self):\n",
    "        print(\"Welcome..\")\n",
    "\n",
    "    def display_name(self):\n",
    "        print(\"Name: \" + self.name)\n",
    "\n",
    "obj1 = BaseClass()\n",
    "obj1.display()\n",
    "\n",
    "\n",
    "obj2 = SubClass()\n",
    "obj2.welcome()\n",
    "obj2.set_name(\"Python\")\n",
    "obj2.display_name()"
   ]
  },
  {
   "cell_type": "code",
   "execution_count": 21,
   "id": "66a27a47-2ae9-4832-98fd-91eb08695cc8",
   "metadata": {},
   "outputs": [
    {
     "name": "stdout",
     "output_type": "stream",
     "text": [
      "Second\n"
     ]
    }
   ],
   "source": [
    "# Multiple Inheritance\n",
    "class First:\n",
    "    def display(self):\n",
    "        print(\"First\")\n",
    "\n",
    "class Second:\n",
    "    def display(self):\n",
    "        print(\"Second\")\n",
    "\n",
    "# class Third(First, Second):\n",
    "#     def desplay_third():\n",
    "#         print(\"Third\")\n",
    "\n",
    "# obj = Third()\n",
    "# obj.display()\n",
    "        \n",
    "# class Third(Second, First):\n",
    "#     def desplay_third():\n",
    "#         print(\"Third\")\n",
    "\n",
    "# obj = Third()\n",
    "# obj.display()\n",
    "\n",
    "# Here the order of inheritance matters \n",
    "# the method of 1st class overrides method of later given class\n",
    "# MRO -> METHOD RESOLUTION ORDER"
   ]
  },
  {
   "cell_type": "code",
   "execution_count": 17,
   "id": "5417b354-e452-4dda-b50c-6c61e98b43c3",
   "metadata": {},
   "outputs": [
    {
     "name": "stdout",
     "output_type": "stream",
     "text": [
      "Third\n"
     ]
    }
   ],
   "source": [
    "# Multilevel Inheritance\n",
    "class First:\n",
    "    def display_first(self):\n",
    "        print(\"First\")\n",
    "\n",
    "class Second(First):\n",
    "    def display_second(self):\n",
    "        print(\"Second\")\n",
    "\n",
    "class Third(Second):\n",
    "    def display_third(self):\n",
    "        print(\"Third\")\n",
    "\n",
    "obj = Third()\n",
    "obj.display_third()"
   ]
  },
  {
   "cell_type": "code",
   "execution_count": 25,
   "id": "0e84c8d9-752e-4317-91fa-8b217a74f279",
   "metadata": {},
   "outputs": [
    {
     "name": "stdout",
     "output_type": "stream",
     "text": [
      "Abhinand Siya\n"
     ]
    }
   ],
   "source": [
    "# Operator Overloading using special functions\n",
    "\n",
    "class Sample:\n",
    "    def set_name(self, name):\n",
    "        self.name = name\n",
    "\n",
    "    # special function for + \n",
    "    def __add__(self, other):\n",
    "        name = self.name + other.name\n",
    "        return name\n",
    "\n",
    "first_name = Sample()\n",
    "second_name = Sample()\n",
    "\n",
    "first_name.set_name(\"Abhinand \")\n",
    "second_name.set_name(\"Siya\")\n",
    "\n",
    "full_name = first_name + second_name\n",
    "print(full_name)"
   ]
  },
  {
   "cell_type": "code",
   "execution_count": null,
   "id": "69d4767d-1c67-4784-ad02-03dca6c8b427",
   "metadata": {},
   "outputs": [],
   "source": []
  },
  {
   "cell_type": "code",
   "execution_count": null,
   "id": "bec304fc-5be8-4fec-a695-eaf4d62ec3fa",
   "metadata": {},
   "outputs": [],
   "source": []
  },
  {
   "cell_type": "code",
   "execution_count": null,
   "id": "ab9573d9-d70d-4c82-8c9b-57623ea18af9",
   "metadata": {},
   "outputs": [],
   "source": []
  },
  {
   "cell_type": "code",
   "execution_count": null,
   "id": "df2b40fd-47e7-4540-b899-7082933f98ff",
   "metadata": {},
   "outputs": [],
   "source": []
  }
 ],
 "metadata": {
  "kernelspec": {
   "display_name": "Python [conda env:base] *",
   "language": "python",
   "name": "conda-base-py"
  },
  "language_info": {
   "codemirror_mode": {
    "name": "ipython",
    "version": 3
   },
   "file_extension": ".py",
   "mimetype": "text/x-python",
   "name": "python",
   "nbconvert_exporter": "python",
   "pygments_lexer": "ipython3",
   "version": "3.13.5"
  },
  "widgets": {
   "application/vnd.jupyter.widget-state+json": {
    "state": {},
    "version_major": 2,
    "version_minor": 0
   }
  }
 },
 "nbformat": 4,
 "nbformat_minor": 5
}
