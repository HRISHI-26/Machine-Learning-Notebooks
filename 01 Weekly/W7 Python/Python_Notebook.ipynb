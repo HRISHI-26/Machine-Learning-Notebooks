{
 "cells": [
  {
   "cell_type": "code",
   "execution_count": 1,
   "id": "395fde7e-faa6-4486-98af-20568ee3a743",
   "metadata": {},
   "outputs": [
    {
     "data": {
      "text/plain": [
       "123"
      ]
     },
     "execution_count": 1,
     "metadata": {},
     "output_type": "execute_result"
    }
   ],
   "source": [
    "name = \"Python\"\n",
    "age = 26\n",
    "isStudent = False\n",
    "\n",
    "# Converting \"123\" into integer\n",
    "string = \"123\"\n",
    "int(string) | int(\"123\")"
   ]
  },
  {
   "cell_type": "code",
   "execution_count": 2,
   "id": "e319561d-0a6e-407e-b831-9cbb6ae2b5fe",
   "metadata": {},
   "outputs": [
    {
     "name": "stdin",
     "output_type": "stream",
     "text": [
      "Enter a number:  0\n"
     ]
    },
    {
     "name": "stdout",
     "output_type": "stream",
     "text": [
      "Zero\n"
     ]
    }
   ],
   "source": [
    "# Write a program to check if a number is positive, negative, or zero.\n",
    "\n",
    "num = int(input(\"Enter a number: \"))\n",
    "\n",
    "if num < 0:\n",
    "    print(\"Negative\")\n",
    "elif num == 0:\n",
    "    print(\"Zero\")\n",
    "else:\n",
    "    print(\"Positive\")"
   ]
  },
  {
   "cell_type": "code",
   "execution_count": 3,
   "id": "0a5aa5bf-288e-43d9-ae1f-bbdee73f7bfc",
   "metadata": {},
   "outputs": [
    {
     "name": "stdout",
     "output_type": "stream",
     "text": [
      "0\n",
      "1\n",
      "2\n",
      "is A\n"
     ]
    }
   ],
   "source": [
    "# What’s the difference between for and while loop? When would you use each?\n",
    "\n",
    "# For -> when no: of iteration is known\n",
    "# While -> when no: of iteration is unknown\n",
    "\n",
    "for i in range(3):\n",
    "    print(i)\n",
    "\n",
    "ch = \"Hi\"\n",
    "while ch != \"Hello\":\n",
    "    print(\"is A\")\n",
    "    ch = \"Hello\"\n"
   ]
  },
  {
   "cell_type": "markdown",
   "id": "cc534199-ed4e-4af9-b5fc-5f0bf1097f7f",
   "metadata": {},
   "source": [
    "<!-- Print all numbers from 1 to 20 except those divisible by 3 using a for loop and continue -->\n",
    "\n",
    "for i in range(1,21):\n",
    "    if i%3 == 0:\n",
    "        continue\n",
    "    print(i)"
   ]
  },
  {
   "cell_type": "code",
   "execution_count": 4,
   "id": "74607d7a-5d11-4519-90c4-ad82beb950a1",
   "metadata": {},
   "outputs": [
    {
     "name": "stdin",
     "output_type": "stream",
     "text": [
      "Enter a number:  5\n"
     ]
    },
    {
     "name": "stdout",
     "output_type": "stream",
     "text": [
      "120\n"
     ]
    }
   ],
   "source": [
    "# Write a loop that prints the factorial of a number n.\n",
    "\n",
    "num = int(input(\"Enter a number: \"))\n",
    "fact  = 1\n",
    "for i in range(num,0,-1):\n",
    "    fact *= i\n",
    "\n",
    "print(fact)"
   ]
  },
  {
   "cell_type": "code",
   "execution_count": 5,
   "id": "a4235f44-43a4-4eaf-a6c6-5fc8375d151e",
   "metadata": {},
   "outputs": [
    {
     "name": "stdin",
     "output_type": "stream",
     "text": [
      "Enter 3 numbers:  90\n",
      " 99\n",
      " 65\n"
     ]
    },
    {
     "name": "stdout",
     "output_type": "stream",
     "text": [
      "99 is greater\n"
     ]
    }
   ],
   "source": [
    "# Write a function to find the maximum of three numbers\n",
    "\n",
    "def maxOfThree(a, b, c):\n",
    "    if a > b:\n",
    "        if a > c:\n",
    "            print(f\"{a} is greater\")\n",
    "        else:\n",
    "            print(f\"{c} is greater\")\n",
    "    else:\n",
    "        if b > c:\n",
    "            print(f\"{b} is greater\")\n",
    "        else:\n",
    "            print(f\"{c} is greater\")\n",
    "\n",
    "num1 = int(input(\"Enter 3 numbers: \"))\n",
    "num2 = int(input())\n",
    "num3 = int(input())\n",
    "\n",
    "maxOfThree(num1, num2, num3)"
   ]
  },
  {
   "cell_type": "code",
   "execution_count": 6,
   "id": "b116a057-27ef-4218-ba4e-df6fdeb71b05",
   "metadata": {},
   "outputs": [
    {
     "data": {
      "text/plain": [
       "120"
      ]
     },
     "execution_count": 6,
     "metadata": {},
     "output_type": "execute_result"
    }
   ],
   "source": [
    "# Recursion function for factorial\n",
    "\n",
    "def fact(n):\n",
    "    if n == 1:\n",
    "        return 1\n",
    "    else:\n",
    "        result = n * fact(n-1)\n",
    "    return result\n",
    "\n",
    "\n",
    "fact(5)"
   ]
  },
  {
   "cell_type": "code",
   "execution_count": 7,
   "id": "85a5cced-d78a-4e1d-ab27-67f8cc753b42",
   "metadata": {},
   "outputs": [
    {
     "name": "stdout",
     "output_type": "stream",
     "text": [
      "300\n",
      "100\n",
      "25.0\n"
     ]
    }
   ],
   "source": [
    "# Lambda function\n",
    "\n",
    "# <f_name> = lambda <parameters> : <expression>\n",
    "\n",
    "sum = lambda num1, num2: num1 + num2\n",
    "print(sum(100,200))\n",
    "\n",
    "square = lambda val: val**2\n",
    "print(square(10))\n",
    "\n",
    "average = lambda num1, num2 : (num1 + num2)/2\n",
    "print(average(20,30))"
   ]
  },
  {
   "cell_type": "code",
   "execution_count": 8,
   "id": "e86735ff-7f14-4bc8-9d63-06017ecbaf01",
   "metadata": {},
   "outputs": [
    {
     "name": "stdout",
     "output_type": "stream",
     "text": [
      "Hello, Python\n",
      "Hello, Python programming\n"
     ]
    }
   ],
   "source": [
    "# Create a function greet_user(name) that prints \"Hello, [name]!\"\n",
    "\n",
    "greet = lambda name:print(f\"Hello, {name}\")\n",
    "greet(\"Python\")\n",
    "\n",
    "def greet_user(name):\n",
    "    print(f\"Hello, {name}\")\n",
    "\n",
    "\n",
    "greet_user(\"Python programming\")"
   ]
  },
  {
   "cell_type": "code",
   "execution_count": 9,
   "id": "d67954b4-5e29-4e5f-ac54-04be66ecade6",
   "metadata": {},
   "outputs": [
    {
     "name": "stdout",
     "output_type": "stream",
     "text": [
      "13\n"
     ]
    }
   ],
   "source": [
    "# What is the purpose of import in Python? Try importing the random module and use random.randint()\n",
    "\n",
    "import random \n",
    "\n",
    "var = random.randint(10,20)\n",
    "\n",
    "print(var)"
   ]
  },
  {
   "cell_type": "code",
   "execution_count": 10,
   "id": "df40267d-327b-4e80-8e8e-4c8f65827955",
   "metadata": {},
   "outputs": [
    {
     "name": "stdout",
     "output_type": "stream",
     "text": [
      "ML\n",
      "['MERN']\n",
      "['FLUTTER']\n",
      "['ML', 'CC', 'MERN', 'MEAN']\n",
      "['ML', 'CC', 'MERN', 'MEAN', 'FLUTTER']\n",
      "--------------------------------------------\n",
      "['ML', 'CC', 'MERN', 'GO', 'MEAN', 'FLUTTER', 'DJANGO']\n",
      "--------------------------------------------\n",
      "['ML', 'CC', 'MERN', 'GO', 'MEAN', 'FLUTTER', 'DJANGO', 'This is a new array']\n",
      "['ML', 'CC', 'MERN', 'GO', 'MEAN', 'FLUTTER', 'DJANGO', 'This is a new array', ['This is a new array']]\n",
      "--------------------------------------------\n",
      "['ML', 'CC', 'MERN', 'GO', 'FLUTTER', 'DJANGO', 'This is a new array', ['This is a new array']]\n",
      "['ML', 'CC', 'MERN', 'GO', 'FLUTTER', 'DJANGO', ['This is a new array']]\n",
      "--------------------------------------------\n",
      "0\n",
      "1\n",
      "--------------------------------------------\n",
      "ML\n",
      "CC\n",
      "MERN\n",
      "GO\n",
      "FLUTTER\n",
      "DJANGO\n",
      "['This is a new array']\n",
      "--------------------------------------------\n",
      "ML\n",
      "CC\n",
      "MERN\n",
      "GO\n",
      "FLUTTER\n",
      "DJANGO\n",
      "['This is a new array']\n",
      "--------------------------------------------\n",
      "ML\n",
      "CC\n",
      "GO\n",
      "['This is a new array']\n"
     ]
    }
   ],
   "source": [
    "# List \n",
    "domain = [\"ML\", \"CC\", \"MERN\", \"MEAN\", \"FLUTTER\"]\n",
    "\n",
    "# Indexing and Slicing\n",
    "print(domain[0])\n",
    "print(domain[2:3])\n",
    "print(domain[4:5])\n",
    "print(domain[0:-1])\n",
    "print(domain[:])\n",
    "\n",
    "print(\"--------------------------------------------\")\n",
    "\n",
    "# Mutability\n",
    "    # Insertion\n",
    "domain.append(\"DJANGO\")\n",
    "domain.insert(3,\"GO\")\n",
    "print(domain)\n",
    "\n",
    "print(\"--------------------------------------------\")\n",
    "\n",
    "    # Updation\n",
    "new_field = [\"This is a new array\"]\n",
    "domain.extend(new_field)\n",
    "print(domain)\n",
    "domain.append(new_field)\n",
    "print(domain)\n",
    "\n",
    "print(\"--------------------------------------------\")\n",
    "\n",
    "     # Deletion\n",
    "domain.pop(4)\n",
    "print(domain)\n",
    "domain.remove(\"This is a new array\")\n",
    "print(domain)\n",
    "\n",
    "print(\"--------------------------------------------\")\n",
    "\n",
    "print(domain.index(\"ML\"))\n",
    "print(domain.count(\"GO\"))\n",
    "\n",
    "\n",
    "print(\"--------------------------------------------\")\n",
    "\n",
    "# List Comprehension\n",
    "\n",
    "    # <list_name> = [<expression> for <var> in <collection> if <condition>]\n",
    "    \n",
    "    # Traversal\n",
    "for _ in domain:\n",
    "    print(_)\n",
    "\n",
    "print(\"--------------------------------------------\")\n",
    "\n",
    "items = [print(_) for _ in domain] # This is list comprehension\n",
    "\n",
    "print(\"--------------------------------------------\")\n",
    "\n",
    "items = [print(_) for _ in domain if len(_) < 3]\n"
   ]
  },
  {
   "cell_type": "code",
   "execution_count": 11,
   "id": "0baeaf46-f9e0-4ea3-87f3-139905988553",
   "metadata": {},
   "outputs": [
    {
     "name": "stdout",
     "output_type": "stream",
     "text": [
      "MEAN\n",
      "('CC', 'MERN', 'MEAN')\n",
      "('ML', 'CC', 'MERN', 'MEAN', 'FLUTTER')\n",
      "('CC', 'MERN', 'MEAN')\n",
      "--------------------------------------------\n",
      "0\n",
      "1\n",
      "--------------------------------------------\n",
      "ML\n",
      "CC\n",
      "MERN\n",
      "MEAN\n",
      "FLUTTER\n"
     ]
    }
   ],
   "source": [
    "# Tuples\n",
    "domain_tuple = (\"ML\", \"CC\", \"MERN\", \"MEAN\", \"FLUTTER\")\n",
    "\n",
    "    # Indexing\n",
    "print(domain_tuple[3])\n",
    "print(domain_tuple[1:4])\n",
    "print(domain_tuple[:])\n",
    "print(domain_tuple[-4:-1])\n",
    "print(\"--------------------------------------------\")\n",
    "\n",
    "    # Immutable\n",
    "# Only able to do these two functions for an element\n",
    "print(domain_tuple.index(\"ML\"))\n",
    "print(domain_tuple.count(\"MERN\"))\n",
    "\n",
    "print(\"--------------------------------------------\")\n",
    "    \n",
    "    # Traversal\n",
    "for i in domain_tuple:\n",
    "    print(i)"
   ]
  },
  {
   "cell_type": "code",
   "execution_count": 12,
   "id": "16b0c2d0-a951-4ce2-bcc4-341e87935cb9",
   "metadata": {},
   "outputs": [
    {
     "name": "stdout",
     "output_type": "stream",
     "text": [
      "[1, 4, 9, 16, 25, 36, 49, 64, 81, 100]\n",
      "--------------------------------------------\n",
      "1\n",
      "4\n",
      "9\n",
      "16\n",
      "25\n",
      "36\n",
      "49\n",
      "64\n",
      "81\n",
      "100\n"
     ]
    }
   ],
   "source": [
    "# Generator Comprehension\n",
    "    # <list_name> = ( <expression> for <iterator> in <colection> if <condition> )\n",
    "\n",
    "a_list = [1,2,3,4,5,6,7,8,9,10]\n",
    "sq_list = (_**2 for _ in a_list)\n",
    "print(list(sq_list)) #specify the format of output\n",
    "\n",
    "print(\"--------------------------------------------\")\n",
    "\n",
    "# Genarator function\n",
    "\n",
    "def gen_func(a_list):\n",
    "    for i in a_list:\n",
    "        yield i**2\n",
    "\n",
    "# for each iteration of this loop yield is created in that iteration\n",
    "for num in gen_func(a_list):\n",
    "    print(num)"
   ]
  },
  {
   "cell_type": "code",
   "execution_count": 13,
   "id": "9801866e-9cb6-4863-a504-38288a15b887",
   "metadata": {},
   "outputs": [
    {
     "name": "stdout",
     "output_type": "stream",
     "text": [
      "Hello, Python\n",
      "Welcome to the world of Computer Science\n"
     ]
    }
   ],
   "source": [
    "# Decorator function\n",
    "                    # func variable\n",
    "def welcome_decorator(func):\n",
    "                # parameter of og_func\n",
    "    def wrapper(name):\n",
    "        print(\"Hello,\" ,end=\" \")\n",
    "        # calling og_func\n",
    "        func(name)\n",
    "        print(\"Welcome to the world of Computer Science\")\n",
    "    return wrapper\n",
    "\n",
    "# appending decorator function to og_func\n",
    "@welcome_decorator\n",
    "def welcome(name):\n",
    "    print(name)\n",
    "\n",
    "welcome(\"Python\")"
   ]
  },
  {
   "cell_type": "code",
   "execution_count": 14,
   "id": "4b390c90-e4b3-4e01-98ce-dd5cef0fde62",
   "metadata": {},
   "outputs": [
    {
     "name": "stdout",
     "output_type": "stream",
     "text": [
      "Python\n",
      "Javascript\n",
      "--------------------------------------------\n",
      "{'ML': 'Python', 'Web Development': 'Javascript', 'Flutter': 'Dart', 'App Development': 'Kotlin', 'Android': 'Java'}\n",
      "--------------------------------------------\n",
      "dict_keys(['ML', 'Web Development', 'Flutter', 'App Development', 'Android'])\n",
      "dict_values(['Python', 'Javascript', 'Dart', 'Kotlin', 'Java'])\n",
      "--------------------------------------------\n",
      "Kotlin\n",
      "('Android', 'Java')\n",
      "--------------------------------------------\n",
      "Python\n",
      "--------------------------------------------\n",
      "dict_items([('ML', 'Python'), ('Web Development', 'Javascript'), ('Flutter', 'Dart')])\n",
      "--------------------------------------------\n",
      "{1: 'One', 2: 'Two', 3: 'Three', 4: 'Four', 5: 'Five'}\n"
     ]
    }
   ],
   "source": [
    "# Dictionary\n",
    "field = {\"ML\":\"Python\", \"Web Development\":\"Javascript\", \"Flutter\":\"Dart\", \"App Development\":\"Kotlin\"}\n",
    "\n",
    "    # Indexing\n",
    "print(field[\"ML\"])\n",
    "print(field[\"Web Development\"])\n",
    "\n",
    "print(\"--------------------------------------------\")\n",
    "\n",
    "# Merging or Appending or Replacing with new dictionary\n",
    "field.update({\"Android\":\"Java\"})\n",
    "print(field)\n",
    "\n",
    "print(\"--------------------------------------------\")\n",
    "\n",
    "# Accessing key and values as seperate lists\n",
    "print(field.keys())\n",
    "print(field.values())\n",
    "\n",
    "print(\"--------------------------------------------\")\n",
    "\n",
    "# Removal of element from dictionary\n",
    "print(field.pop(\"App Development\"))\n",
    "print(field.popitem())\n",
    "\n",
    "print(\"--------------------------------------------\")\n",
    "\n",
    "# Getting item using key\n",
    "print(field.get(\"ML\"))\n",
    "\n",
    "print(\"--------------------------------------------\")\n",
    "\n",
    "# Getting all items as list of tuple\n",
    "print(field.items())\n",
    "\n",
    "print(\"--------------------------------------------\")\n",
    "\n",
    "keys_list = [1,2,3,4,5]\n",
    "values_list = [\"One\", \"Two\", \"Three\", \"Four\", \"Five\"]\n",
    "\n",
    "dictionary = {}\n",
    "\n",
    "for key, value in zip(keys_list, values_list):\n",
    "    dictionary[key] = value\n",
    "print(dictionary)"
   ]
  },
  {
   "cell_type": "code",
   "execution_count": 15,
   "id": "65b0ea03-7cd4-497f-9db0-12ca363494bb",
   "metadata": {},
   "outputs": [],
   "source": [
    "# Types of functions\n",
    "\n",
    "# Built-in function\n",
    "# User Defined function\n",
    "\n",
    "# Lambda function\n",
    "# Recursive function\n",
    "\n",
    "# Decorator function\n",
    "# Generator function\n",
    "\n",
    "# Higher order function"
   ]
  },
  {
   "cell_type": "code",
   "execution_count": 16,
   "id": "5d35b85f-31aa-4ea8-aed4-8f46664208d2",
   "metadata": {},
   "outputs": [
    {
     "name": "stdout",
     "output_type": "stream",
     "text": [
      "55\n"
     ]
    }
   ],
   "source": [
    "# Variable positional arguments\n",
    "\n",
    "def sum(*args):\n",
    "    total = 0\n",
    "    for i in args:\n",
    "        total += i\n",
    "    return total\n",
    "\n",
    "answer = sum(1,2,3,4,5,6,7,8,9,10)\n",
    "print(answer)"
   ]
  },
  {
   "cell_type": "code",
   "execution_count": 17,
   "id": "d04c28f5-14d1-4bea-adef-47322e78041c",
   "metadata": {},
   "outputs": [
    {
     "name": "stdout",
     "output_type": "stream",
     "text": [
      "name: Python\n",
      "domain: ML\n",
      "age: 25\n",
      "level: beginner\n",
      "description: Simple to Complex topics are covered\n"
     ]
    }
   ],
   "source": [
    "# Variable keyword arguments\n",
    "\n",
    "def display_dictionary(**kwargs):\n",
    "    for key, value in kwargs.items():\n",
    "        print(f\"{key}: {value}\")\n",
    "\n",
    "display_dictionary(name=\"Python\", domain=\"ML\", age=25, level=\"beginner\", description=\"Simple to Complex topics are covered\")\n"
   ]
  },
  {
   "cell_type": "code",
   "execution_count": null,
   "id": "28533d2e-5495-4139-a742-65cac6f7d79e",
   "metadata": {},
   "outputs": [],
   "source": []
  }
 ],
 "metadata": {
  "kernelspec": {
   "display_name": "Python [conda env:base] *",
   "language": "python",
   "name": "conda-base-py"
  },
  "language_info": {
   "codemirror_mode": {
    "name": "ipython",
    "version": 3
   },
   "file_extension": ".py",
   "mimetype": "text/x-python",
   "name": "python",
   "nbconvert_exporter": "python",
   "pygments_lexer": "ipython3",
   "version": "3.13.5"
  },
  "widgets": {
   "application/vnd.jupyter.widget-state+json": {
    "state": {},
    "version_major": 2,
    "version_minor": 0
   }
  }
 },
 "nbformat": 4,
 "nbformat_minor": 5
}
