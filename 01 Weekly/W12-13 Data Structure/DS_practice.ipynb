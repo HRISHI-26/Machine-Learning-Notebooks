{
 "cells": [
  {
   "cell_type": "code",
   "execution_count": 7,
   "id": "fc942a73-eaf3-4ff5-a537-92dff74c4b9f",
   "metadata": {},
   "outputs": [],
   "source": [
    "class Node:\n",
    "    def __init__(self, data):\n",
    "        self.data = data\n",
    "        self.next = None"
   ]
  },
  {
   "cell_type": "code",
   "execution_count": 8,
   "id": "6119edac-df92-45fb-9298-22099fc4bb73",
   "metadata": {},
   "outputs": [],
   "source": [
    "class LinkedList:\n",
    "    def __init__(self):\n",
    "        self.head = None\n",
    "    \n",
    "    def insert_at_end(self, data):\n",
    "        if self.head == None:\n",
    "            node = Node(data)\n",
    "            self.head = node\n",
    "        else:\n",
    "            currentNode = self.head\n",
    "            while currentNode.next:\n",
    "                currentNode = currentNode.next\n",
    "            node = Node(data)\n",
    "            currentNode.next = node\n",
    "            \n",
    "    def display(self):\n",
    "        string = \"\"\n",
    "        currentNode = self.head\n",
    "        while currentNode:\n",
    "            print(currentNode.data, end=\"->\")\n",
    "            string = string + str(currentNode.data)\n",
    "            currentNode = currentNode.next\n",
    "        print(\"Null\")\n",
    "        return string\n",
    "\n",
    "    def remove_dupe(self):\n",
    "        currentNode = self.head\n",
    "        while currentNode.next:\n",
    "            if currentNode.data == currentNode.next.data:\n",
    "                currentNode.next = currentNode.next.next\n",
    "            else:\n",
    "                currentNode = currentNode.next\n",
    "    \n",
    "    def reverse(self):\n",
    "        prevNode = None\n",
    "        currentNode = self.head\n",
    "        while currentNode:\n",
    "            nextNode = currentNode.next\n",
    "            currentNode.next = prevNode\n",
    "            prevNode = currentNode\n",
    "            currentNode = nextNode\n",
    "        self.head = prevNode\n",
    "    \n",
    "            "
   ]
  },
  {
   "cell_type": "code",
   "execution_count": 9,
   "id": "ac19b77b-c2f6-45b0-bb03-150afbafa9b4",
   "metadata": {},
   "outputs": [
    {
     "name": "stdout",
     "output_type": "stream",
     "text": [
      "1->2->2->1->Null\n",
      "1221\n"
     ]
    }
   ],
   "source": [
    "array = [1, 2, 2, 3, 4, 5, 6, 6]\n",
    "array = [1, 2, 2, 1]\n",
    "\n",
    "slist = LinkedList()\n",
    "for i in array:\n",
    "   slist.insert_at_end(i)\n",
    "string = slist.display()\n",
    "print(string)"
   ]
  },
  {
   "cell_type": "code",
   "execution_count": 10,
   "id": "25e9e65a-9c47-48c0-a4d6-9d46c592fd62",
   "metadata": {},
   "outputs": [
    {
     "name": "stdout",
     "output_type": "stream",
     "text": [
      "1->2->1->Null\n",
      "121\n"
     ]
    }
   ],
   "source": [
    "slist.remove_dupe()\n",
    "string = slist.display()\n",
    "print(string)"
   ]
  },
  {
   "cell_type": "code",
   "execution_count": 11,
   "id": "291f3f38-eac6-4d08-a65f-98d128fc4761",
   "metadata": {},
   "outputs": [
    {
     "name": "stdout",
     "output_type": "stream",
     "text": [
      "1->2->1->Null\n",
      "121\n"
     ]
    }
   ],
   "source": [
    "slist.reverse()\n",
    "string = slist.display()\n",
    "print(string)"
   ]
  },
  {
   "cell_type": "code",
   "execution_count": 12,
   "id": "71a83c05-66ca-40e9-8a38-d2a23fc6fe1b",
   "metadata": {},
   "outputs": [
    {
     "name": "stdout",
     "output_type": "stream",
     "text": [
      "1->2->1->Null\n",
      "1->2->1->Null\n",
      "Palindrome\n"
     ]
    }
   ],
   "source": [
    "def check_pal(slist):\n",
    "    string1 = slist.display()\n",
    "    slist.reverse()\n",
    "    string2 = slist.display()\n",
    "    if string1 == string2:\n",
    "        print(\"Palindrome\")\n",
    "    else:\n",
    "        print(\"Not Palindrome\")\n",
    "check_pal(slist)"
   ]
  },
  {
   "cell_type": "code",
   "execution_count": 35,
   "id": "1fbb001f-eb41-4914-af05-1c353dfe52b0",
   "metadata": {},
   "outputs": [
    {
     "name": "stdout",
     "output_type": "stream",
     "text": [
      "0 1 1 2 3 5 8 13 21 34 "
     ]
    }
   ],
   "source": [
    "def fibonacci(n):\n",
    "    if n == 0:\n",
    "        return 0\n",
    "    elif n == 1:\n",
    "        return 1\n",
    "    else:\n",
    "        return fibonacci(n-1) + fibonacci(n-2)\n",
    "\n",
    "for i in range(10):\n",
    "    print(fibonacci(i), end=\" \")"
   ]
  }
 ],
 "metadata": {
  "kernelspec": {
   "display_name": "Python 3 (ipykernel)",
   "language": "python",
   "name": "python3"
  },
  "language_info": {
   "codemirror_mode": {
    "name": "ipython",
    "version": 3
   },
   "file_extension": ".py",
   "mimetype": "text/x-python",
   "name": "python",
   "nbconvert_exporter": "python",
   "pygments_lexer": "ipython3",
   "version": "3.13.5"
  },
  "widgets": {
   "application/vnd.jupyter.widget-state+json": {
    "state": {},
    "version_major": 2,
    "version_minor": 0
   }
  }
 },
 "nbformat": 4,
 "nbformat_minor": 5
}
