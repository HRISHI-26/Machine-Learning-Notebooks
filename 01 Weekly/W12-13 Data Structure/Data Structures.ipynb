{
 "cells": [
  {
   "cell_type": "markdown",
   "id": "848b4959-656d-42a4-b89c-ea4c01274a47",
   "metadata": {
    "panel-layout": {
     "height": 50.8203125,
     "visible": true,
     "width": 100
    }
   },
   "source": [
    "## Array"
   ]
  },
  {
   "cell_type": "code",
   "execution_count": 1,
   "id": "6628b36c-38a5-4ab4-aa40-deb85699b83a",
   "metadata": {
    "panel-layout": {
     "height": 0,
     "visible": true,
     "width": 100
    }
   },
   "outputs": [
    {
     "name": "stdout",
     "output_type": "stream",
     "text": [
      "Array:  [4, 3, 6, 5, 9, 1, 2, 9, 0, 7, 3, 5]\n",
      "Max:  9\n",
      "Min:  0\n"
     ]
    }
   ],
   "source": [
    "# Find the largest and smallest element in an array.\n",
    "array = [4, 3, 6, 5, 9, 1, 2, 9, 0, 7, 3, 5]\n",
    "print(\"Array: \", array)\n",
    "\n",
    "max = array[0]\n",
    "for i in array:\n",
    "    if i > max:\n",
    "        max = i\n",
    "print(\"Max: \",max)\n",
    "min = array[0]\n",
    "for i in array:\n",
    "    if i < min:\n",
    "        min = i\n",
    "print(\"Min: \", min)\n"
   ]
  },
  {
   "cell_type": "code",
   "execution_count": 2,
   "id": "fa9a0146-ddc2-4c2e-8eab-3bed0261f12b",
   "metadata": {
    "panel-layout": {
     "height": 0,
     "visible": true,
     "width": 100
    }
   },
   "outputs": [
    {
     "name": "stdout",
     "output_type": "stream",
     "text": [
      "[5, 3, 7, 0, 9, 2, 1, 9, 5, 6, 3, 4]\n"
     ]
    }
   ],
   "source": [
    "# Reverse an array in place.\n",
    "n = len(array)\n",
    "for i in range(n//2):\n",
    "    array[i], array[n-i-1] = array[n-i-1],array[i]\n",
    "print(array)\n"
   ]
  },
  {
   "cell_type": "code",
   "execution_count": 3,
   "id": "a1027597-3ba0-45ff-97b0-6a62e125e8bc",
   "metadata": {},
   "outputs": [
    {
     "name": "stdout",
     "output_type": "stream",
     "text": [
      "Left Shift:  [5, 3, 7, 0, 9, 2, 1, 9, 5, 6, 3, 4]\n",
      "Right Shift: [5, 3, 7, 0, 9, 2, 1, 9, 5, 6, 3, 4]\n"
     ]
    }
   ],
   "source": [
    "# Rotate an array by k positions (both left and right).\n",
    "n = len(array)\n",
    "k = 3\n",
    "k %= n\n",
    "left_shift = array[:k] + array[k:]\n",
    "right_shift = array[:-k] + array[-k:]\n",
    "print(\"Left Shift: \", left_shift)\n",
    "print(\"Right Shift:\", right_shift)\n",
    "    \n"
   ]
  },
  {
   "cell_type": "code",
   "execution_count": 4,
   "id": "f0b679d6-9749-4ed5-87d9-6a7b05c77cba",
   "metadata": {
    "panel-layout": {
     "height": 0,
     "visible": true,
     "width": 100
    }
   },
   "outputs": [
    {
     "name": "stdout",
     "output_type": "stream",
     "text": [
      "Missing number:  -3\n"
     ]
    }
   ],
   "source": [
    "# Find the missing number in an array of size n containing numbers from 1 to n.\n",
    "# Missing Number = Expected Sum - Actual Sum\n",
    "arr = [1, 2, 4, 5, 6]\n",
    "n = len(arr)\n",
    "exp = n * (n+1) // 2\n",
    "act = sum(arr)\n",
    "missing = exp - act\n",
    "print(\"Missing number: \",missing)\n",
    "\n"
   ]
  },
  {
   "cell_type": "code",
   "execution_count": 5,
   "id": "8bb684a7-6586-4db9-9e13-73aba4f71c1e",
   "metadata": {
    "panel-layout": {
     "height": 0,
     "visible": true,
     "width": 100
    }
   },
   "outputs": [
    {
     "name": "stdout",
     "output_type": "stream",
     "text": [
      "Duplicates:  [3, 5, 9]\n"
     ]
    }
   ],
   "source": [
    "# Find the duplicate number in an array.\n",
    "array = [4, 3, 6, 5, 9, 1, 2, 9, 0, 7, 3, 5]\n",
    "dupe = []\n",
    "for i in array:\n",
    "    if array.count(i) > 1 and i not in dupe:\n",
    "        dupe.append(i)\n",
    "print(\"Duplicates: \",dupe)\n"
   ]
  },
  {
   "cell_type": "code",
   "execution_count": 6,
   "id": "dd108c1e-213a-48dc-9e65-885bdc6ccc2b",
   "metadata": {
    "panel-layout": {
     "height": 0,
     "visible": true,
     "width": 100
    }
   },
   "outputs": [
    {
     "name": "stdout",
     "output_type": "stream",
     "text": [
      "{'4': 1, '3': 2, '6': 1, '5': 2, '9': 2, '1': 1, '2': 1, '0': 1, '7': 1}\n"
     ]
    }
   ],
   "source": [
    "# Count the frequency of each element in an array.\n",
    "freq = {}\n",
    "for i in array:\n",
    "    k = i\n",
    "    v = array.count(i)\n",
    "    if k not in freq:\n",
    "        freq[str(k)] = v\n",
    "print(freq)"
   ]
  },
  {
   "cell_type": "markdown",
   "id": "0e79849a-0619-4642-ac82-57cfd5b33300",
   "metadata": {
    "panel-layout": {
     "height": 50.8203125,
     "visible": true,
     "width": 100
    }
   },
   "source": [
    "## String"
   ]
  },
  {
   "cell_type": "code",
   "execution_count": 7,
   "id": "49edd7f7-d5d4-4753-a56c-fbaee51d0a69",
   "metadata": {
    "panel-layout": {
     "height": 0,
     "visible": true,
     "width": 100
    }
   },
   "outputs": [
    {
     "name": "stdout",
     "output_type": "stream",
     "text": [
      "Reversed String: serutcurtS ataD\n"
     ]
    }
   ],
   "source": [
    "# Reverse a string without using extra space.\n",
    "string = \"Data Structures\"\n",
    "rev = string[::-1]\n",
    "    \n",
    "print(\"Reversed String:\", rev)\n"
   ]
  },
  {
   "cell_type": "code",
   "execution_count": 8,
   "id": "a6ca8441-1c9b-41ce-b2a2-203e9e623240",
   "metadata": {},
   "outputs": [
    {
     "name": "stdout",
     "output_type": "stream",
     "text": [
      "String is not palindrome\n"
     ]
    }
   ],
   "source": [
    "# Check if a string is a palindrome.\n",
    "if string.lower() == string[::-1].lower():\n",
    "    print(\"String is palindrome\")\n",
    "else:\n",
    "    print(\"String is not palindrome\")\n"
   ]
  },
  {
   "cell_type": "code",
   "execution_count": 9,
   "id": "0bbdd384-6b73-4335-8dcd-64c63821b67f",
   "metadata": {
    "panel-layout": {
     "height": 0,
     "visible": true,
     "width": 100
    }
   },
   "outputs": [
    {
     "name": "stdout",
     "output_type": "stream",
     "text": [
      "Vowel count: 5\n",
      "Consonant count: 9\n"
     ]
    }
   ],
   "source": [
    "# Count vowels and consonants in a string\n",
    "string = \"DataStructures\"\n",
    "v_Count = 0\n",
    "c_Count = 0\n",
    "for i in string.lower():\n",
    "    if i in ['a','e','i','o','u']:\n",
    "        v_Count += 1\n",
    "    else:\n",
    "        c_Count += 1\n",
    "print(\"Vowel count:\", v_Count)\n",
    "print(\"Consonant count:\", c_Count)\n"
   ]
  },
  {
   "cell_type": "code",
   "execution_count": 10,
   "id": "61b344ef-a927-43bc-8838-404d25d429b9",
   "metadata": {},
   "outputs": [
    {
     "name": "stdout",
     "output_type": "stream",
     "text": [
      "D\n"
     ]
    }
   ],
   "source": [
    "# Find the first non-repeating character in a string.\n",
    "string = \"Data Structures\"\n",
    "for i, char in enumerate(string):\n",
    "    if string.count(char) > 1:\n",
    "        pass\n",
    "    else:\n",
    "        print(char)\n",
    "        break\n"
   ]
  },
  {
   "cell_type": "code",
   "execution_count": 11,
   "id": "4a6ecf3f-676a-47be-b740-8c443ba7168c",
   "metadata": {},
   "outputs": [
    {
     "name": "stdout",
     "output_type": "stream",
     "text": [
      "String is anagram\n"
     ]
    }
   ],
   "source": [
    "# Check if two strings are anagrams of each other.\n",
    "string1 = \"data\"\n",
    "string2 = \"tada\"\n",
    "if sorted(string1) == sorted(string2):\n",
    "    print(\"String is anagram\")\n",
    "else:\n",
    "    print(\"String is not anagram\")\n"
   ]
  },
  {
   "cell_type": "code",
   "execution_count": 12,
   "id": "b6b7c8cc-1182-4c38-b697-bbcd20e94be4",
   "metadata": {
    "panel-layout": {
     "height": 0,
     "visible": true,
     "width": 100
    }
   },
   "outputs": [
    {
     "name": "stdout",
     "output_type": "stream",
     "text": [
      "Heo\n"
     ]
    }
   ],
   "source": [
    "# Remove all duplicate characters from a string.\n",
    "string = \"Hello\"\n",
    "s = \"\"\n",
    "for i,char in enumerate(string):\n",
    "    if string.count(char) == 1:\n",
    "        s += char\n",
    "print(s)\n"
   ]
  },
  {
   "cell_type": "markdown",
   "id": "c0c6f195-3862-406a-9263-94be27461add",
   "metadata": {
    "panel-layout": {
     "height": 50.8203125,
     "visible": true,
     "width": 100
    }
   },
   "source": [
    "## Linked List"
   ]
  },
  {
   "cell_type": "code",
   "execution_count": 13,
   "id": "8de9ff28-50f9-455f-8c53-20d117f584d0",
   "metadata": {},
   "outputs": [
    {
     "name": "stdout",
     "output_type": "stream",
     "text": [
      "4->3->6->5->9->1->2->9->0->7->3->5->Null\n"
     ]
    }
   ],
   "source": [
    "# Create a linked list from an array.\n",
    "class Node:\n",
    "    def __init__(self, data):\n",
    "        self.data = data\n",
    "        self.next = None\n",
    "class SLinkedList:\n",
    "    def __init__(self):\n",
    "        self.head = None\n",
    "\n",
    "    def insert_at_end(self, data):\n",
    "        if self.head == None:\n",
    "            node = Node(data)\n",
    "            self.head = node\n",
    "        else:\n",
    "            currentNode = self.head\n",
    "            while currentNode.next:\n",
    "                currentNode = currentNode.next\n",
    "            node = Node(data)\n",
    "            currentNode.next = node\n",
    "            \n",
    "    def display(self):\n",
    "        currentNode = self.head\n",
    "        while currentNode:\n",
    "            print(currentNode.data, end=\"->\")\n",
    "            currentNode = currentNode.next\n",
    "        print(\"Null\")\n",
    "\n",
    "# Insert a node at the beginning, end, and a given position in a linked list.\n",
    "    def insert_at_begin(self, data):\n",
    "        node = Node(data)\n",
    "        node.next = self.head\n",
    "        self.head = node\n",
    "\n",
    "    def insert_after_key(self, data, key):\n",
    "        currentNode = self.head\n",
    "        while currentNode.data != key:\n",
    "            currentNode = currentNode.next\n",
    "        node = Node(data)\n",
    "        node.next = currentNode.next\n",
    "        currentNode.next = node\n",
    "    \n",
    "    def insert_before_key(self,data, key):\n",
    "        currentNode = self.head\n",
    "        while currentNode.next.data != key:\n",
    "            currentNode = currentNode.next\n",
    "        node = Node(data)\n",
    "        node.next = currentNode.next\n",
    "        currentNode.next = node\n",
    "\n",
    "# Delete a node with a given key.\n",
    "    def delete_key(self, key):\n",
    "        currentNode = self.head\n",
    "        if key == self.head.data:\n",
    "            self.head = self.head.next\n",
    "        else:\n",
    "            while currentNode.data != key:\n",
    "                prevNode = currentNode\n",
    "                currentNode = currentNode.next\n",
    "            prevNode.next = currentNode.next\n",
    "\n",
    "# Find the length of a linked list.\n",
    "    def length(self):\n",
    "        currentNode = self.head\n",
    "        count = 0\n",
    "        while currentNode:\n",
    "            count += 1\n",
    "            currentNode = currentNode.next\n",
    "        print(\"Length of List:\", count)\n",
    "\n",
    "# Reverse a linked list.\n",
    "    def reverse(self):\n",
    "        prevNode = None\n",
    "        currentNode = self.head\n",
    "        while currentNode:\n",
    "            nextNode = currentNode.next\n",
    "            currentNode.next = prevNode\n",
    "            prevNode = currentNode\n",
    "            currentNode = nextNode\n",
    "        self.head = prevNode\n",
    "\n",
    "# Sort the linked lists.\n",
    "    def sort(self):\n",
    "        firstPtr = self.head\n",
    "        while firstPtr.next.next:\n",
    "            secondPtr = firstPtr.next\n",
    "            while secondPtr:\n",
    "                if firstPtr.data > secondPtr.data:\n",
    "                    firstPtr.data, secondPtr.data = secondPtr.data, firstPtr.data\n",
    "                secondPtr = secondPtr.next\n",
    "            firstPtr = firstPtr.next\n",
    "\n",
    "# Search an element\n",
    "    def search(self, key):\n",
    "        count = 0\n",
    "        currentNode = self.head\n",
    "        while currentNode.data != key:\n",
    "            count += 1\n",
    "            currentNode = currentNode.next\n",
    "        if currentNode == None:\n",
    "            return \"Element not found\"\n",
    "        else:\n",
    "            print(\"Element found\")\n",
    "            return count\n",
    "\n",
    "# Join a linked list\n",
    "    def join(self, shead):\n",
    "        currentNode = self.head\n",
    "        while currentNode.next:\n",
    "            currentNode = currentNode.next\n",
    "\n",
    "        currentNode.next = shead.head\n",
    "\n",
    "\n",
    "        \n",
    "slist = SLinkedList()\n",
    "for i in array:\n",
    "    slist.insert_at_end(i)\n",
    "slist.display()\n",
    "            "
   ]
  },
  {
   "cell_type": "code",
   "execution_count": 14,
   "id": "ad0d8cef-fe41-4f74-9919-ab6b8fe86545",
   "metadata": {
    "panel-layout": {
     "height": 0,
     "visible": true,
     "width": 100
    }
   },
   "outputs": [
    {
     "name": "stdout",
     "output_type": "stream",
     "text": [
      "100->4->3->6->5->9->1->2->9->0->7->3->5->Null\n",
      "100->4->3->6->5->9->100->1->2->9->0->7->3->5->Null\n",
      "100->4->3->6->5->9->100->1->2->9->100->0->7->3->5->Null\n"
     ]
    }
   ],
   "source": [
    "# Insert a node at the beginning, end, and a given position in a linked list.\n",
    "slist.insert_at_begin(100)\n",
    "slist.display()\n",
    "\n",
    "slist.insert_after_key(100, 9)\n",
    "slist.display()\n",
    "\n",
    "slist.insert_before_key(100, 0)\n",
    "slist.display()\n"
   ]
  },
  {
   "cell_type": "code",
   "execution_count": 15,
   "id": "754150a2-b87c-4cc4-b6bd-19725d11e4fd",
   "metadata": {
    "panel-layout": {
     "height": 0,
     "visible": true,
     "width": 100
    }
   },
   "outputs": [
    {
     "name": "stdout",
     "output_type": "stream",
     "text": [
      "4->3->6->5->9->100->1->2->9->100->0->7->3->5->Null\n"
     ]
    }
   ],
   "source": [
    "# Delete a node with a given key.\n",
    "slist.delete_key(100)\n",
    "slist.display()\n"
   ]
  },
  {
   "cell_type": "code",
   "execution_count": 16,
   "id": "543a0bf2-9d4c-484d-b488-5cee2cc0a789",
   "metadata": {
    "panel-layout": {
     "height": 0,
     "visible": true,
     "width": 100
    }
   },
   "outputs": [
    {
     "name": "stdout",
     "output_type": "stream",
     "text": [
      "Length of List: 14\n"
     ]
    }
   ],
   "source": [
    "# Find the length of a linked list.\n",
    "slist.length()\n"
   ]
  },
  {
   "cell_type": "code",
   "execution_count": 17,
   "id": "3fd3dde9-4b09-43e8-ae19-aa4b50a434fa",
   "metadata": {
    "panel-layout": {
     "height": 0,
     "visible": true,
     "width": 100
    }
   },
   "outputs": [
    {
     "name": "stdout",
     "output_type": "stream",
     "text": [
      "5->3->7->0->100->9->2->1->100->9->5->6->3->4->Null\n"
     ]
    }
   ],
   "source": [
    "# Reverse a linked list.\n",
    "slist.reverse()\n",
    "slist.display()\n"
   ]
  },
  {
   "cell_type": "code",
   "execution_count": 18,
   "id": "d662d451-501a-49eb-af31-a5b079c170ab",
   "metadata": {
    "panel-layout": {
     "height": 0,
     "visible": true,
     "width": 100
    }
   },
   "outputs": [
    {
     "name": "stdout",
     "output_type": "stream",
     "text": [
      "0->1->2->3->3->4->5->5->6->7->9->9->100->100->Null\n"
     ]
    }
   ],
   "source": [
    "# Sort the linked lists.\n",
    "slist.sort()\n",
    "slist.display()"
   ]
  },
  {
   "cell_type": "markdown",
   "id": "9583ad64-c28e-431e-a57e-1d3fb8f9bbd9",
   "metadata": {
    "panel-layout": {
     "height": 50.8203125,
     "visible": true,
     "width": 100
    }
   },
   "source": [
    "## Linear Search"
   ]
  },
  {
   "cell_type": "code",
   "execution_count": 19,
   "id": "ddb5ca06-b869-4717-96da-01ddc5119238",
   "metadata": {},
   "outputs": [
    {
     "name": "stdout",
     "output_type": "stream",
     "text": [
      "Element found\n"
     ]
    }
   ],
   "source": [
    "# Search for an element in an array using linear search.\n",
    "for i in array:\n",
    "    if i == 6:\n",
    "        print(\"Element found\")\n",
    "        break\n"
   ]
  },
  {
   "cell_type": "code",
   "execution_count": 20,
   "id": "ca641b45-73f6-473d-b00e-488a46acf016",
   "metadata": {
    "panel-layout": {
     "height": 0,
     "visible": true,
     "width": 100
    }
   },
   "outputs": [
    {
     "name": "stdout",
     "output_type": "stream",
     "text": [
      "Frequency of 6: 1\n"
     ]
    }
   ],
   "source": [
    "# Count how many times a given element appears in the array.\n",
    "count = 0\n",
    "key = 6\n",
    "for i in array:\n",
    "    if i == key:\n",
    "        count += 1\n",
    "print(f\"Frequency of {key}:\", count)\n"
   ]
  },
  {
   "cell_type": "code",
   "execution_count": 21,
   "id": "e3723fba-e856-40fa-a8ee-0b48b75a1eb1",
   "metadata": {},
   "outputs": [
    {
     "name": "stdout",
     "output_type": "stream",
     "text": [
      "First occurence of 6 is at index: 2\n"
     ]
    }
   ],
   "source": [
    "# Find the index of the first occurrence of an element.\n",
    "key = 6\n",
    "for i, num in enumerate(array):\n",
    "    if num == key:\n",
    "        print(f\"First occurence of {key} is at index:\", i)\n",
    "        break\n"
   ]
  },
  {
   "cell_type": "code",
   "execution_count": 22,
   "id": "fb2465ca-b8ea-4ca5-acd9-9412dd39e9ac",
   "metadata": {},
   "outputs": [
    {
     "name": "stdout",
     "output_type": "stream",
     "text": [
      "Last occurence of 6 is at index: 9\n"
     ]
    }
   ],
   "source": [
    "# Find the index of the last occurrence of an element.\n",
    "for i, num in enumerate(reversed(array)):\n",
    "    if num == key:\n",
    "        print(f\"Last occurence of {key} is at index:\", i)\n",
    "        break\n"
   ]
  },
  {
   "cell_type": "code",
   "execution_count": 23,
   "id": "41fa54f7-2881-4606-a563-cdfe42ac3048",
   "metadata": {
    "panel-layout": {
     "height": 0,
     "visible": true,
     "width": 100
    }
   },
   "outputs": [
    {
     "name": "stdout",
     "output_type": "stream",
     "text": [
      "Element found\n",
      "5\n"
     ]
    }
   ],
   "source": [
    "# Search for an element in an unsorted linked list using linear search.\n",
    "key = 4\n",
    "position = slist.search(key)\n",
    "print(position)"
   ]
  },
  {
   "cell_type": "markdown",
   "id": "7e86514a-bb1d-4d20-8c1e-bb292bb5fa16",
   "metadata": {
    "panel-layout": {
     "height": 50.8203125,
     "visible": true,
     "width": 100
    }
   },
   "source": [
    "## Binary Search"
   ]
  },
  {
   "cell_type": "code",
   "execution_count": 24,
   "id": "f923269d-274a-4dd7-98be-5ea295c3dfbc",
   "metadata": {},
   "outputs": [
    {
     "name": "stdout",
     "output_type": "stream",
     "text": [
      "Element not found\n"
     ]
    }
   ],
   "source": [
    "# Implement binary search iteratively.\n",
    "array = [4, 3, 6, 5, 9, 1, 2, 9, 0, 7, 3, 5]\n",
    "array = sorted(array)\n",
    "right = len(array) - 1 \n",
    "left = 0\n",
    "\n",
    "key = 9\n",
    "found = False\n",
    "while left > right:\n",
    "    mid = (left + right) // 2\n",
    "    if key == array[mid]:\n",
    "        found = True\n",
    "        break\n",
    "    elif key < array[mid]:\n",
    "        right = mid - 1\n",
    "    else:\n",
    "        left = mid + 1\n",
    "\n",
    "if not found:\n",
    "    print(\"Element not found\")\n",
    "else: \n",
    "    print(\"Index: \", mid)\n",
    "        "
   ]
  },
  {
   "cell_type": "code",
   "execution_count": 30,
   "id": "1399d998-9982-4988-8635-458ec526cc96",
   "metadata": {
    "panel-layout": {
     "height": 0,
     "visible": true,
     "width": 100
    }
   },
   "outputs": [
    {
     "name": "stdout",
     "output_type": "stream",
     "text": [
      "Element not found\n"
     ]
    }
   ],
   "source": [
    "# Implement binary search using recursion.\n",
    "def binary_search(array, left, right, key):\n",
    "    if left > right:\n",
    "        return \"Element not found\"\n",
    "        \n",
    "    mid = (left + right) // 2\n",
    "    \n",
    "    if key == array[mid]:\n",
    "        return mid\n",
    "    elif key < array[mid]:\n",
    "        return binary_search(array, left, mid - 1, key)\n",
    "    else:\n",
    "        return binary_search(array, mid + 1, right, key)\n",
    "\n",
    "        \n",
    "array = [4, 3, 6, 5, 9, 1, 2, 9, 0, 7, 3, 5]\n",
    "array = sorted(array)\n",
    "right = len(array) - 1 \n",
    "left = 0\n",
    "\n",
    "result = binary_search(array, left, right, 11)\n",
    "print(result)\n"
   ]
  },
  {
   "cell_type": "markdown",
   "id": "d5e847cc-e338-41d8-bb8c-566f52edb000",
   "metadata": {},
   "source": [
    "## Recursion\n"
   ]
  },
  {
   "cell_type": "code",
   "execution_count": 26,
   "id": "fe039caa-ff14-4096-b938-48ced9aaeb23",
   "metadata": {},
   "outputs": [
    {
     "name": "stdout",
     "output_type": "stream",
     "text": [
      "1 2 3 4 5 6 7 8 9 10 "
     ]
    }
   ],
   "source": [
    "# Print numbers from 1 to N using recursion.\n",
    "def call(n):\n",
    "    if n == 0:\n",
    "        return\n",
    "    call(n-1)\n",
    "    print(n, end=\" \")\n",
    "    \n",
    "call(10)\n"
   ]
  },
  {
   "cell_type": "code",
   "execution_count": 27,
   "id": "855ff9ed-f55b-4976-9947-1c05d1fc671c",
   "metadata": {},
   "outputs": [
    {
     "name": "stdout",
     "output_type": "stream",
     "text": [
      "120\n"
     ]
    }
   ],
   "source": [
    "# Find the factorial of a number using recursion.\n",
    "def factorial(n):\n",
    "    if n == 0 or n == 1:\n",
    "        return 1\n",
    "    else:\n",
    "        return n * factorial(n-1)\n",
    "fact = factorial(5)\n",
    "print(fact)\n"
   ]
  },
  {
   "cell_type": "code",
   "execution_count": 28,
   "id": "47cf6109-e6a7-47ab-a18a-1a98c86c2a18",
   "metadata": {},
   "outputs": [],
   "source": [
    "# Find the nth Fibonacci number using recursion.\n",
    "\n",
    "# Find the sum of digits of a number using recursion.\n",
    "\n",
    "# Reverse a string using recursion.\n",
    "\n",
    "# Check if a string is a palindrome using recursion.\n",
    "\n",
    "# Generate all subsets of an array using recursion."
   ]
  },
  {
   "cell_type": "code",
   "execution_count": 29,
   "id": "457907e7-8fce-4146-8c25-2357243a2ab6",
   "metadata": {},
   "outputs": [
    {
     "name": "stdout",
     "output_type": "stream",
     "text": [
      "1->2->3->4->5->Null\n",
      "6->7->8->9->Null\n",
      "1->2->3->4->5->6->7->8->9->Null\n"
     ]
    }
   ],
   "source": [
    "array1 = [1,2,3,4,5]\n",
    "array2 = [6, 7, 8, 9]\n",
    "\n",
    "alist = SLinkedList()\n",
    "\n",
    "for i in array1:\n",
    "    alist.insert_at_end(i)\n",
    "alist.display()\n",
    "blist = SLinkedList()\n",
    "\n",
    "for i in array2:\n",
    "    blist.insert_at_end(i)\n",
    "blist.display()\n",
    "\n",
    "alist.join(blist)\n",
    "alist.display()"
   ]
  },
  {
   "cell_type": "code",
   "execution_count": null,
   "id": "97901e5b-80fd-406a-affc-f9e9c9881ec5",
   "metadata": {},
   "outputs": [],
   "source": []
  }
 ],
 "metadata": {
  "kernelspec": {
   "display_name": "Python 3 (ipykernel)",
   "language": "python",
   "name": "python3"
  },
  "language_info": {
   "codemirror_mode": {
    "name": "ipython",
    "version": 3
   },
   "file_extension": ".py",
   "mimetype": "text/x-python",
   "name": "python",
   "nbconvert_exporter": "python",
   "pygments_lexer": "ipython3",
   "version": "3.13.5"
  },
  "panel-cell-order": [
   "848b4959-656d-42a4-b89c-ea4c01274a47",
   "6628b36c-38a5-4ab4-aa40-deb85699b83a",
   "fa9a0146-ddc2-4c2e-8eab-3bed0261f12b",
   "f0b679d6-9749-4ed5-87d9-6a7b05c77cba",
   "8bb684a7-6586-4db9-9e13-73aba4f71c1e",
   "dd108c1e-213a-48dc-9e65-885bdc6ccc2b",
   "0e79849a-0619-4642-ac82-57cfd5b33300",
   "49edd7f7-d5d4-4753-a56c-fbaee51d0a69",
   "0bbdd384-6b73-4335-8dcd-64c63821b67f",
   "b6b7c8cc-1182-4c38-b697-bbcd20e94be4",
   "c0c6f195-3862-406a-9263-94be27461add",
   "ad0d8cef-fe41-4f74-9919-ab6b8fe86545",
   "754150a2-b87c-4cc4-b6bd-19725d11e4fd",
   "543a0bf2-9d4c-484d-b488-5cee2cc0a789",
   "3fd3dde9-4b09-43e8-ae19-aa4b50a434fa",
   "d662d451-501a-49eb-af31-a5b079c170ab",
   "9583ad64-c28e-431e-a57e-1d3fb8f9bbd9",
   "ca641b45-73f6-473d-b00e-488a46acf016",
   "41fa54f7-2881-4606-a563-cdfe42ac3048",
   "7e86514a-bb1d-4d20-8c1e-bb292bb5fa16",
   "1399d998-9982-4988-8635-458ec526cc96"
  ],
  "widgets": {
   "application/vnd.jupyter.widget-state+json": {
    "state": {},
    "version_major": 2,
    "version_minor": 0
   }
  }
 },
 "nbformat": 4,
 "nbformat_minor": 5
}
