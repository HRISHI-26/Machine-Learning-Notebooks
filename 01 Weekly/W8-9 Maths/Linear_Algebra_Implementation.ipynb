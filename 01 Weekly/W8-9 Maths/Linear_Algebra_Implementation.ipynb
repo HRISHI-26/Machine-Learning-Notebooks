{
 "cells": [
  {
   "cell_type": "code",
   "execution_count": 1,
   "id": "10313a1b-d0d8-4593-88f6-b485c6170925",
   "metadata": {},
   "outputs": [],
   "source": [
    "# 1. Introduction to Linear Algebra"
   ]
  },
  {
   "cell_type": "code",
   "execution_count": 2,
   "id": "25fd0cd2-640b-4a1f-b25b-7ef05881d2d1",
   "metadata": {},
   "outputs": [],
   "source": [
    "# DATA = collection of features = VECTOR\n",
    "# Values of each feature represents magnitude\n",
    "# Each feature is a Dimension (direction)\n",
    "\n",
    "# A DATASET IS ITSELF A MATRIX\n",
    "\n",
    "# MODEL FITTING:  If a \"transformation matrix\" is applied to DATASET\n",
    "\n",
    "# After model fitting we get \"predicted output\" - This is \"NEW VECTOR\"\n",
    "\n",
    "# =============================================================================================\n",
    "\n",
    "\n",
    "# dataset is a collection of vectors in an n-dimensional vector space, where n = number of features.\n",
    "# The model learns a matrix that projects data from the full vector space (ℝ¹⁰) into a subspace (ℝ²).\n",
    "\n",
    "# vector space -----------> PCA ------------> sub space -------> model fitting\n",
    "\n",
    "\n",
    "\n",
    "# ==============================================================================================\n",
    "\n",
    "            # | Term         | In Simple Words                                     |\n",
    "            # | ------------ | --------------------------------------------------- |\n",
    "            # | Vector Space | Full feature space (all possible data vectors)      |\n",
    "            # | Vector       | One data point                                      |\n",
    "            # | Dataset      | Collection of vectors → forms the vector space      |\n",
    "            # | Matrix       | Applies transformations in/from vector spaces       |\n",
    "            # | Subspace     | Lower-dimensional space the model projects into     |\n",
    "            # | Model        | Learns or uses subspaces for compression/prediction |\n",
    "\n",
    "# ==============================================================================================\n",
    "\n",
    "# Your original dataset has 10 features → so each data point is a vector in ℝ¹⁰\n",
    "# 👉 This means the full vector space is ℝ¹⁰\n",
    "\n",
    "# But during training, you use only 5 features (due to their predictive power or feature selection)\n",
    "# 👉 Now, you're working in a 5-dimensional subspace, a part of ℝ¹⁰\n",
    "\n",
    "# ==============================================================================================\n",
    "\n",
    "# PCA will analyze the redundancies across features, and if two or more features\n",
    "# contain similar patterns or data, it will optimize by combining them into a single\n",
    "# principal component, which best represents their shared variation.\n",
    "\n",
    "# ==============================================================================================\n",
    "\n",
    "        # | Step | What Happens          | Why It Matters                      |\n",
    "        # | ---- | --------------------- | ----------------------------------- |\n",
    "        # | 1️⃣   | Subtract mean         | Normalize the center of data        |\n",
    "        # | 2️⃣   | Covariance matrix     | See feature relationships           |\n",
    "        # | 3️⃣   | Eigenvectors & values | Find directions of variance         |\n",
    "        # | 4️⃣   | Keep top eigenvectors | Capture most variance (info)        |\n",
    "        # | 5️⃣   | Project data          | Get reduced features (e.g., 2D, 3D) |\n",
    "\n",
    "# ==============================================================================================\n",
    "\n",
    "        # | Covariance Value | Meaning                                   |\n",
    "        # | ---------------- | ----------------------------------------- |\n",
    "        # | > 0              | Features increase together (positive)     |\n",
    "        # | < 0              | One increases, other decreases (negative) |\n",
    "        # | = 0              | Features are unrelated (independent)      |\n",
    "\n",
    "# ==============================================================================================\n",
    "\n",
    "# ✅ Refined Statement:\n",
    "# Each value in an eigenvector represents how much each original feature contributes to the new axis \n",
    "# (principal component), regardless of whether features are redundant or not.\n",
    "# In PCA, redundant features will tend to contribute together to the same component, because they share variance.\n",
    "\n",
    "# | Concept                       | Meaning                                                                   |\n",
    "# | ----------------------------- | ------------------------------------------------------------------------- |\n",
    "# | **Eigenvector**               | A new axis (principal component)                                          |\n",
    "# | **Each value in eigenvector** | Contribution of each original feature                                     |\n",
    "# | **Redundant features**        | Tend to have **similar weights** in the same eigenvector                  |\n",
    "# | **PCA**                       | Uses eigenvectors to combine features into fewer, uncorrelated components |\n",
    "\n",
    "\n",
    "# When a transformation is applied, some vectors end up staying in the same position. These vectors are \n",
    "# called eigenvectors. The factor by which eigenvectors are scaled after the transformation is called eigenvalues.\n",
    "\n",
    "# ==============================================================================================\n",
    "\n"
   ]
  },
  {
   "cell_type": "code",
   "execution_count": 3,
   "id": "fdcf5626-4a69-4285-a5eb-017d4fa09c84",
   "metadata": {},
   "outputs": [
    {
     "name": "stdout",
     "output_type": "stream",
     "text": [
      "Scalar: 10\n"
     ]
    }
   ],
   "source": [
    "# A scalar value only possess magnitude\n",
    "scalar = 10\n",
    "print(\"Scalar: \" + str(scalar))"
   ]
  },
  {
   "cell_type": "code",
   "execution_count": 4,
   "id": "9b290575-3477-487b-b21b-58f636d8ce31",
   "metadata": {},
   "outputs": [
    {
     "name": "stdout",
     "output_type": "stream",
     "text": [
      "Python:: Vector:  [1, 2, 3, 4, 5]\n",
      "Numpy::  Vector:  [1 2 3 4 5]\n"
     ]
    }
   ],
   "source": [
    "# A vector has a magnitude and a direction \n",
    "# (x-axis)\n",
    "# A vector can be represented in a 1D array or list\n",
    "\n",
    "# Using list\n",
    "vector = [1, 2, 3, 4, 5]\n",
    "print(\"Python:: Vector: \", vector)\n",
    "\n",
    "# Using numpy array\n",
    "import numpy as np\n",
    "\n",
    "vector_np = np.array(vector)\n",
    "print(\"Numpy::  Vector: \", vector_np)"
   ]
  },
  {
   "cell_type": "code",
   "execution_count": 5,
   "id": "c6d745dc-6472-44a6-b28e-e88a6e5c498d",
   "metadata": {
    "scrolled": true
   },
   "outputs": [
    {
     "name": "stdout",
     "output_type": "stream",
     "text": [
      "Python Matrix:  [[1, 2], [3, 4]]\n",
      "Numpy  Matrix:  [[1 2]\n",
      " [3 4]]\n"
     ]
    }
   ],
   "source": [
    "# A matrix is a 2D which consists of different vectors\n",
    "# (x-axis and y-axis)\n",
    "# A matrix can be represented as 2D list or array\n",
    "\n",
    "# Using list\n",
    "matrix = [\n",
    "    [1, 2],\n",
    "    [3, 4]\n",
    "]\n",
    "print(\"Python Matrix: \", matrix)\n",
    "\n",
    "# Using numpy array\n",
    "matrix_np = np.array(matrix)\n",
    "print(\"Numpy  Matrix: \", matrix_np)"
   ]
  },
  {
   "cell_type": "code",
   "execution_count": 6,
   "id": "1fd4c219-aec7-4ed6-b99f-e4f810892c9e",
   "metadata": {},
   "outputs": [
    {
     "name": "stdout",
     "output_type": "stream",
     "text": [
      "Sum using List:   [3, 6, 9, 12, 15]\n",
      "Sum using '+':    [ 3  6  9 12 15]\n",
      "Sum using add():  [ 3  6  9 12 15]\n"
     ]
    }
   ],
   "source": [
    "                        # Basic Vector Operations\n",
    "# Addition, Substraction, Scalar Multiplication\n",
    "\n",
    "                # Addition\n",
    "# Using List\n",
    "vector_a = [1, 2, 3, 4, 5]\n",
    "vector_b = [2, 4, 6, 8, 10]\n",
    "vector_sum = []\n",
    "for i in range(len(vector_a)):\n",
    "    vector_sum.append(vector_a[i] + vector_b[i]) \n",
    "\n",
    "print(\"Sum using List:  \", vector_sum)\n",
    "\n",
    "# Using numpy array\n",
    "vector_a_np = np.array(vector_a)\n",
    "vector_b_np = np.array(vector_b)\n",
    "\n",
    "vector_sum_np = vector_a_np + vector_b_np\n",
    "print(\"Sum using '+':   \", vector_sum_np)\n",
    "\n",
    "vector_sum_np = np.add(vector_a_np, vector_b_np)\n",
    "print(\"Sum using add(): \", vector_sum_np)"
   ]
  },
  {
   "cell_type": "code",
   "execution_count": 7,
   "id": "ba747a82-5d81-45a0-9317-635460eb14bd",
   "metadata": {},
   "outputs": [
    {
     "name": "stdout",
     "output_type": "stream",
     "text": [
      "Difference using List:        [-1, -2, -3, -4, -5]\n",
      "Difference using '-':         [-1 -2 -3 -4 -5]\n",
      "Difference using subtract():  [-1 -2 -3 -4 -5]\n"
     ]
    }
   ],
   "source": [
    "            # Substraction\n",
    "# Using List\n",
    "vector_diff = []\n",
    "for i in range(len(vector_a)):\n",
    "    vector_diff.append(vector_a[i] - vector_b[i])\n",
    "\n",
    "print(\"Difference using List:       \", vector_diff)\n",
    "\n",
    "# Using numpy array\n",
    "vector_diff = vector_a_np - vector_b_np\n",
    "print(\"Difference using '-':        \", vector_diff)\n",
    "\n",
    "vector_diff = np.subtract(vector_a_np, vector_b_np)\n",
    "print(\"Difference using subtract(): \", vector_diff)"
   ]
  },
  {
   "cell_type": "code",
   "execution_count": 8,
   "id": "efba9ca2-df04-451e-924d-e1a312c5eed3",
   "metadata": {},
   "outputs": [
    {
     "name": "stdout",
     "output_type": "stream",
     "text": [
      "Scalar product using List:         [10, 20, 30, 40, 50]\n",
      "Scalar product using '*':          [10 20 30 40 50]\n",
      "Scalar product using multiply():   [10 20 30 40 50]\n"
     ]
    }
   ],
   "source": [
    "        # Scalar Multiplication\n",
    "\n",
    "vector_a = [1, 2, 3, 4, 5]\n",
    "vector_a_np = np.array(vector_a)\n",
    "\n",
    "scalar = 10\n",
    "vector_spdt = []\n",
    "\n",
    "\n",
    "# Using List\n",
    "for i in range(len(vector_a)):\n",
    "    vector_spdt.append(vector_a[i] * scalar)\n",
    "\n",
    "print(\"Scalar product using List:        \", vector_spdt)\n",
    "\n",
    "# Using numpy array\n",
    "vector_spdt = scalar * vector_a_np\n",
    "print(\"Scalar product using '*':         \", vector_spdt)\n",
    "\n",
    "vector_spdt = np.multiply(scalar, vector_a_np)\n",
    "print(\"Scalar product using multiply():  \", vector_spdt)"
   ]
  },
  {
   "cell_type": "code",
   "execution_count": 9,
   "id": "45faecaf-7f4e-4c6e-a2f3-746f9e7ed5de",
   "metadata": {},
   "outputs": [
    {
     "name": "stdout",
     "output_type": "stream",
     "text": [
      "Scalar Product of 2D matrix:  [[10, 20, 30], [40, 50, 60], [70, 80, 90]]\n"
     ]
    }
   ],
   "source": [
    "# Scalar multiplication of 2D matrix\n",
    "\n",
    "s_matrix = [\n",
    "    [1, 2, 3],\n",
    "    [4, 5, 6],\n",
    "    [7, 8, 9]\n",
    "]\n",
    "scalar = 10\n",
    "\n",
    "matrix_pdt = []\n",
    "for i in range(len(s_matrix)):\n",
    "    row = []\n",
    "    for j in range(len(s_matrix[i])):\n",
    "        element = scalar * s_matrix[i][j]\n",
    "        row.append(element)\n",
    "    matrix_pdt.append(row)\n",
    "\n",
    "print(\"Scalar Product of 2D matrix: \", matrix_pdt)"
   ]
  },
  {
   "cell_type": "code",
   "execution_count": 10,
   "id": "69b0698d-b581-4104-ba8e-ecf0f9abfb72",
   "metadata": {},
   "outputs": [],
   "source": [
    "# 2. Vectors and Matrices\n",
    "\n",
    "# Vector Space: \n",
    "# It is a collection of vectors and all possible linear combinations of these vectors.\n",
    "# It also contains operations or rules of vector addition and scalar multiplication.\n",
    "\n",
    "# Sub Space:\n",
    "# It is a subset of vector space, where it should contain:\n",
    "# > Zero vector\n",
    "# > All same Vector addition\n",
    "# > All same Scalar multiplication\n",
    "\n",
    "# Subspace = Subset( Vector Space) under Vector Addition, Scalar Multiplication and Zero Vector"
   ]
  },
  {
   "cell_type": "code",
   "execution_count": 11,
   "id": "038bef51-53ec-4903-8039-251035fe98db",
   "metadata": {},
   "outputs": [],
   "source": [
    "# Types of Matrices\n",
    "\n",
    "# 1. Singleton matrix       - 1 element\n",
    "a = [1]\n",
    "# 2. Row matrix             - 1 row\n",
    "a = [1, 2, 3, 4, 5]\n",
    "# 3. Column matrix          - 1 column\n",
    "a = [[1], [2], [3]]\n",
    "\n",
    "# 4. Singular matrix        - Inverse exist\n",
    "# 5. NonSingular matrix     - Inverse does'nt exist\n",
    "\n",
    "# 6. Square matrix          - row = column\n",
    "a = [[1, 2], [3, 4]]\n",
    "# 7. Rectangular matrix     - row != column\n",
    "a = [[1, 2, 3], [1, 2, 3]]\n",
    "\n",
    "# 8. Zero/Null matrix       - Full Zeros\n",
    "a = [[0, 0], [0, 0]]\n",
    "# 9. Identiy matrix         - Diagonal 1 \n",
    "a = [[1, 0], [0, 1]]\n",
    "# 10. Diagonal matrix       - Diagonal elements are random\n",
    "a = [[2, 0], [0, 5]]\n",
    "# 11. Scalar matrix         - Diagonal elements are same\n",
    "a = [[5, 0], [0, 5]]\n",
    "\n",
    "# 12. Sparse matrix         - More 0's \n",
    "a = [[0, 0, 1], [10, 0, 0], [0, 23, 0]]\n",
    "# 13. Dense matrix          - Less or No 0's\n",
    "a = [[0, 93, 1], [10, 74, 0], [9, 23, 1]]\n",
    "\n",
    "# 14. Upper Triangular      - Non zero @ above diagonal\n",
    "a = [[2, 93, 1], [0, 74, 10], [0, 0, 1]]\n",
    "# 15. Lower Triangular      - Non zero @ below diagonal\n",
    "a = [[2, 0, 0], [10, 74, 0], [8, 30, 1]]\n",
    "\n",
    "# 16. Orthogonal matrix     - A • A•T = I\n",
    "\n",
    "# 17. Symmetric matrix      - A = (A•T)\n",
    "a = [[1, 2, 3], [2, 3, 1], [3, 1, 2]]\n",
    "# 18. Skew Symmetric matrix - (-A) = (A•T)\n",
    "a = [[1, -2, -3], [2, 3, -1], [3, 1, 2]]"
   ]
  },
  {
   "cell_type": "code",
   "execution_count": 12,
   "id": "69937bcc-4d9c-494b-b202-dbafee8caee1",
   "metadata": {},
   "outputs": [
    {
     "name": "stdout",
     "output_type": "stream",
     "text": [
      "Sum of Matrix using list:   [[3, 6, 9], [12, 15, 18], [21, 24, 27]]\n",
      "Sum of Matrix using '+':    [[ 3  6  9]\n",
      " [12 15 18]\n",
      " [21 24 27]]\n",
      "Sum of Matrix using add():  [[ 3  6  9]\n",
      " [12 15 18]\n",
      " [21 24 27]]\n"
     ]
    }
   ],
   "source": [
    "# Matrix Operations\n",
    "\n",
    "            # Addition\n",
    "matrix_a = [\n",
    "    [1, 2, 3],\n",
    "    [4, 5, 6],\n",
    "    [7, 8, 9]\n",
    "]\n",
    "matrix_b = [\n",
    "    [2, 4, 6],\n",
    "    [8, 10, 12],\n",
    "    [14, 16, 18]\n",
    "]\n",
    "    \n",
    "# Using list\n",
    "matrix_sum = []\n",
    "for i in range(len(matrix_a)):\n",
    "    row = []\n",
    "    for j in range(len(matrix_a[0])):\n",
    "        row.append(matrix_a[i][j] + matrix_b[i][j])\n",
    "    matrix_sum.append(row)\n",
    "\n",
    "print(\"Sum of Matrix using list:  \", matrix_sum)\n",
    "\n",
    "\n",
    "matrix_a_np = np.array(matrix_a)\n",
    "matrix_b_np = np.array(matrix_b)\n",
    "\n",
    "# Using numpy array\n",
    "matrix_sum = matrix_a_np + matrix_b_np\n",
    "print(\"Sum of Matrix using '+':   \", matrix_sum)\n",
    "\n",
    "matrix_sum = np.add(matrix_a_np, matrix_b_np)\n",
    "print(\"Sum of Matrix using add(): \", matrix_sum)\n"
   ]
  },
  {
   "cell_type": "code",
   "execution_count": 13,
   "id": "bb699eda-cd58-475d-a918-420cc19013c6",
   "metadata": {},
   "outputs": [
    {
     "name": "stdout",
     "output_type": "stream",
     "text": [
      "Diff of Matrix using list:   [[ 3  6  9]\n",
      " [12 15 18]\n",
      " [21 24 27]]\n",
      "Diff of Matrix using '-':    [[-1 -2 -3]\n",
      " [-4 -5 -6]\n",
      " [-7 -8 -9]]\n",
      "Diff of Matrix using subtract:  [[-1 -2 -3]\n",
      " [-4 -5 -6]\n",
      " [-7 -8 -9]]\n"
     ]
    }
   ],
   "source": [
    "#         # Subtraction\n",
    "# # Using list\n",
    "matrix_diff = []\n",
    "for i in range(len(matrix_a)):\n",
    "    row = []\n",
    "    for j in range(len(matrix_a[0])):\n",
    "        row.append(matrix_a[i][j] - matrix_b[i][j])\n",
    "    matrix_diff.append(row)\n",
    "\n",
    "print(\"Diff of Matrix using list:  \", matrix_sum)\n",
    "\n",
    "\n",
    "# Using numpy array\n",
    "matrix_diff = matrix_a_np - matrix_b_np\n",
    "print(\"Diff of Matrix using '-':   \", matrix_diff)\n",
    "\n",
    "matrix_diff = np.subtract(matrix_a_np, matrix_b_np)\n",
    "print(\"Diff of Matrix using subtract: \", matrix_diff)"
   ]
  },
  {
   "cell_type": "code",
   "execution_count": 14,
   "id": "192d461a-8ce1-4da1-9e9b-1122eb7055df",
   "metadata": {},
   "outputs": [
    {
     "name": "stdout",
     "output_type": "stream",
     "text": [
      "Transpose of matrix:  []\n",
      "Transpose of matrix using 'T':  [[1 4 7]\n",
      " [2 5 8]\n",
      " [3 6 9]]\n",
      "Transpose of matrix using transpose():  [[1 4 7]\n",
      " [2 5 8]\n",
      " [3 6 9]]\n"
     ]
    }
   ],
   "source": [
    "     # Transpose\n",
    "# Using List\n",
    "matrix_tps = []\n",
    "# for i in range(len(matrix_a)):\n",
    "#     row = []\n",
    "#     for j in range(len(matrix_a[0])):\n",
    "#         if i < j:\n",
    "#             matrix_a[i][j], matrix_a[j][i] = matrix_a[j][i], matrix_a[i][j]\n",
    "#         row.append(matrix_a[i][j])\n",
    "#     matrix_tps.append(row)\n",
    "\n",
    "print(\"Transpose of matrix: \", matrix_tps)\n",
    "\n",
    "# Using numpy array\n",
    "\n",
    "matrix_tps = matrix_a_np.T\n",
    "print(\"Transpose of matrix using 'T': \", matrix_tps)\n",
    "\n",
    "matrix_tps = np.transpose(matrix_a_np)\n",
    "print(\"Transpose of matrix using transpose(): \", matrix_tps)"
   ]
  },
  {
   "cell_type": "code",
   "execution_count": 15,
   "id": "a8f35876-7594-4c87-ad41-021ae31cccf9",
   "metadata": {},
   "outputs": [
    {
     "name": "stdout",
     "output_type": "stream",
     "text": [
      "Product of matrix using List:     [[60, 72, 84], [132, 162, 192], [204, 252, 300]]\n",
      "Product of matrix using '@':     [[ 60  72  84]\n",
      " [132 162 192]\n",
      " [204 252 300]]\n",
      "Product of matrix using dot():     [[ 60  72  84]\n",
      " [132 162 192]\n",
      " [204 252 300]]\n"
     ]
    }
   ],
   "source": [
    "# Multiplication\n",
    "# Using list\n",
    "matrix_pdt = []\n",
    "for i in range(len(matrix_a)):\n",
    "    row = []\n",
    "    for j in range(len(matrix_b[0])):\n",
    "        product_sum = 0  \n",
    "        for k in range(len(matrix_b)):\n",
    "            product_sum += matrix_a[i][k] * matrix_b[k][j]\n",
    "        row.append(product_sum)\n",
    "    matrix_pdt.append(row)\n",
    "\n",
    "print(\"Product of matrix using List:    \", matrix_pdt)\n",
    "\n",
    "# Using numpy array\n",
    "matrix_pdt = matrix_a_np @ matrix_b_np\n",
    "print(\"Product of matrix using '@':    \", matrix_pdt)\n",
    "\n",
    "matrix_pdt = np.dot(matrix_a_np, matrix_b_np)\n",
    "print(\"Product of matrix using dot():    \", matrix_pdt)"
   ]
  },
  {
   "cell_type": "code",
   "execution_count": 28,
   "id": "596d8b36-59ef-4435-8587-b9307e5eb060",
   "metadata": {},
   "outputs": [
    {
     "name": "stdout",
     "output_type": "stream",
     "text": [
      "Determinent using List:   -3\n",
      "Determinent using det():  -3.000000000000001\n"
     ]
    }
   ],
   "source": [
    "# Determinent\n",
    "matrix_a = [\n",
    "    [1, 2, 3],\n",
    "    [4, 5, 6],\n",
    "    [7, 8, 10]\n",
    "]\n",
    "\n",
    "def determinent(matrix):\n",
    "    n = len(matrix)\n",
    "\n",
    "    if n == 1:\n",
    "        return matrix[0][0]\n",
    "    elif n == 2:\n",
    "        return (matrix[0][0]*matrix[1][1] - matrix[0][1]*matrix[1][0])\n",
    "    else:\n",
    "        det = 0\n",
    "        for column in range(n):\n",
    "            minor = [[\n",
    "                matrix[i][j] for j in range(n) if j!= column]\n",
    "                     for i in range(1,n)\n",
    "                    ]\n",
    "            sign = (-1)**column\n",
    "            det += sign * matrix[0][column] * determinent(minor)\n",
    "        return det\n",
    "\n",
    "det = determinent(matrix_a)\n",
    "print(\"Determinent using List:  \", det)\n",
    "\n",
    "\n",
    "# Using numpy array\n",
    "det = np.linalg.det(matrix_a)\n",
    "print(\"Determinent using det(): \", det)"
   ]
  },
  {
   "cell_type": "code",
   "execution_count": 34,
   "id": "e2459016-154b-4bb2-9262-d51db173bf9f",
   "metadata": {},
   "outputs": [
    {
     "name": "stdout",
     "output_type": "stream",
     "text": [
      "Inverse using list: \n",
      "[0.3333333333333335, 1.0, -1.6666666666666665]\n",
      "[-0.33333333333333337, 0.0, 0.6666666666666666]\n",
      "[1.0, -2.0, 1.0]\n",
      "[[ 0.33333333  1.         -1.66666667]\n",
      " [-0.33333333  0.          0.66666667]\n",
      " [ 1.         -2.          1.        ]]\n"
     ]
    }
   ],
   "source": [
    "# Identity matrix\n",
    "\n",
    "matrix_a = [\n",
    "    [4, 7, 2],\n",
    "    [3, 6, 1],\n",
    "    [2, 5, 1]\n",
    "]\n",
    "\n",
    "def inverse_matrix(matrix):\n",
    "    n = len(matrix)\n",
    "\n",
    "    id_matrix = [[float(i==j) for i in range(n)]for j in range(n)]\n",
    "\n",
    "    mat = [row[:] for row in matrix]\n",
    "\n",
    "    for i in range(n):\n",
    "        diag = mat[i][i]\n",
    "        if diag == 0:\n",
    "            raise ValueError(\"Singular no inverse\")\n",
    "\n",
    "        for j in range(n):\n",
    "            mat[i][j] /= diag\n",
    "            id_matrix[i][j] /= diag\n",
    "\n",
    "        for k in range(n):\n",
    "            if k != i:\n",
    "                factor = mat[k][i]\n",
    "                for j in range(n):\n",
    "                    mat[k][j] -= factor * mat[i][j]\n",
    "                    id_matrix[k][j] -= factor * id_matrix[i][j]\n",
    "    return id_matrix\n",
    "\n",
    "\n",
    "matrix_id = inverse_matrix(matrix_a)\n",
    "print(\"Inverse using list: \")\n",
    "for row in matrix_id:\n",
    "    print(row)\n",
    "\n",
    "# Using numpy array\n",
    "matrix_a_np = np.array(matrix_a)\n",
    "\n",
    "matrix_id = np.linalg.inv(matrix_a_np)\n",
    "print(matrix_id)"
   ]
  },
  {
   "cell_type": "code",
   "execution_count": 46,
   "id": "ac493d9b-237e-49b2-813b-9c13e08809cc",
   "metadata": {},
   "outputs": [
    {
     "name": "stdout",
     "output_type": "stream",
     "text": [
      "Eigenvalues:   [9.23606797749979, 4.76393202250021]\n",
      "Eigenvectors: \n",
      "[0.6180339887498949, 1]\n",
      "[-1.618033988749895, 1]\n"
     ]
    }
   ],
   "source": [
    "# Eigen values and Eigen vectors\n",
    "\n",
    "\n",
    "# for 2x2 matrix\n",
    "import math\n",
    "\n",
    "def find_eigen(matrix):\n",
    "    a, b = matrix[0]\n",
    "    c, d = matrix[1]\n",
    "\n",
    "    trace = a + d             #  Sum of diagonals\n",
    "    determinent = a*d - b*c   # Tells if eigen value is real or complex\n",
    "\n",
    "    descriminant = trace**2 - 4*determinent\n",
    "\n",
    "    if descriminant < 0:\n",
    "        return \"Complex value.....\"\n",
    "\n",
    "    sqrt_disc = math.sqrt(descriminant)\n",
    "\n",
    "    lambda1 = (trace + sqrt_disc)/2\n",
    "    lambda2 = (trace - sqrt_disc)/2\n",
    "\n",
    "    eigenvalues = [lambda1, lambda2]\n",
    "\n",
    "    eigenvectors = []\n",
    "    for lam in eigenvalues:\n",
    "        A_minus_lambda_I = [\n",
    "            [a-lam, b],\n",
    "            [c, d-lam]\n",
    "        ]\n",
    "\n",
    "        if b != 0:\n",
    "            x = -(a-lam) / b\n",
    "            eigenvectors.append([x, 1])\n",
    "        elif c != 0:\n",
    "            y = -(d-lam) / c\n",
    "            eigenvectors.append([1,y])\n",
    "        else:\n",
    "            eigenvectors.append([1,0])\n",
    "            \n",
    "    return eigenvalues, eigenvectors\n",
    "\n",
    "\n",
    "A = [[8, 2],[2, 6]]\n",
    "\n",
    "eigenvalues, eigenvectors = find_eigen(A)\n",
    "\n",
    "print(\"Eigenvalues:  \", eigenvalues)\n",
    "print(\"Eigenvectors: \")\n",
    "for v in eigenvectors:\n",
    "    print(v)"
   ]
  },
  {
   "cell_type": "code",
   "execution_count": null,
   "id": "664f4907-8b68-4d42-a53f-4859b6bba165",
   "metadata": {},
   "outputs": [],
   "source": []
  },
  {
   "cell_type": "code",
   "execution_count": null,
   "id": "aa78419e-45a1-48d1-bc43-e5df3f976606",
   "metadata": {},
   "outputs": [],
   "source": []
  },
  {
   "cell_type": "code",
   "execution_count": null,
   "id": "e37eb23b-25cf-40fd-87d2-62b6288b3ab6",
   "metadata": {},
   "outputs": [],
   "source": []
  }
 ],
 "metadata": {
  "kernelspec": {
   "display_name": "Python [conda env:base] *",
   "language": "python",
   "name": "conda-base-py"
  },
  "language_info": {
   "codemirror_mode": {
    "name": "ipython",
    "version": 3
   },
   "file_extension": ".py",
   "mimetype": "text/x-python",
   "name": "python",
   "nbconvert_exporter": "python",
   "pygments_lexer": "ipython3",
   "version": "3.13.5"
  },
  "widgets": {
   "application/vnd.jupyter.widget-state+json": {
    "state": {},
    "version_major": 2,
    "version_minor": 0
   }
  }
 },
 "nbformat": 4,
 "nbformat_minor": 5
}
