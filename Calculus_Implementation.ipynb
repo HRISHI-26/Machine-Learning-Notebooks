{
  "nbformat": 4,
  "nbformat_minor": 0,
  "metadata": {
    "colab": {
      "provenance": [],
      "authorship_tag": "ABX9TyNU2D6cfI1bJZg5dN1xwCzq",
      "include_colab_link": true
    },
    "kernelspec": {
      "name": "python3",
      "display_name": "Python 3"
    },
    "language_info": {
      "name": "python"
    }
  },
  "cells": [
    {
      "cell_type": "markdown",
      "metadata": {
        "id": "view-in-github",
        "colab_type": "text"
      },
      "source": [
        "<a href=\"https://colab.research.google.com/github/HRISHI-26/Machine-Learning-Notebooks/blob/main/Calculus_Implementation.ipynb\" target=\"_parent\"><img src=\"https://colab.research.google.com/assets/colab-badge.svg\" alt=\"Open In Colab\"/></a>"
      ]
    },
    {
      "cell_type": "markdown",
      "source": [
        "# Calculus Practical Implementation"
      ],
      "metadata": {
        "id": "GGIENTIQlhmF"
      }
    },
    {
      "cell_type": "markdown",
      "source": [
        "Here we use symbolic mathematics instead of numerical mathematics.\n",
        "  Therefore we use **SymPy** Library for Calculus related operations"
      ],
      "metadata": {
        "id": "EY-vnFwMmrmj"
      }
    },
    {
      "cell_type": "code",
      "execution_count": null,
      "metadata": {
        "id": "3gpjKgrblUvk"
      },
      "outputs": [],
      "source": [
        "import sympy as sp"
      ]
    },
    {
      "cell_type": "code",
      "source": [
        "x, y = sp.symbols('x y')"
      ],
      "metadata": {
        "id": "TDQDaLRzmvqw"
      },
      "execution_count": null,
      "outputs": []
    },
    {
      "cell_type": "markdown",
      "source": [
        "##Diffrentiation"
      ],
      "metadata": {
        "id": "dXcc1EGTr_hw"
      }
    },
    {
      "cell_type": "code",
      "source": [
        "# Calculating Limit\n",
        "f = sp.sin(x)/x\n",
        "lim = sp.limit(f, x, 0)\n",
        "print(\"Lim x->0\", lim)"
      ],
      "metadata": {
        "colab": {
          "base_uri": "https://localhost:8080/"
        },
        "id": "y1N5a7k3m8oP",
        "outputId": "075a35d6-9dff-4b58-9ef9-4e006b2201c1"
      },
      "execution_count": null,
      "outputs": [
        {
          "output_type": "stream",
          "name": "stdout",
          "text": [
            "Lim x->0 1\n"
          ]
        }
      ]
    },
    {
      "cell_type": "code",
      "source": [
        "# Normal Differentiation\n",
        "f = 4*x**2 + 3*x + 5\n",
        "df = sp.diff(f, x)\n",
        "print(\"Derivative of f(x):\", df)"
      ],
      "metadata": {
        "colab": {
          "base_uri": "https://localhost:8080/"
        },
        "id": "ChL8cASbnert",
        "outputId": "7a88831d-9966-4c96-de7d-54ff00f43e48"
      },
      "execution_count": null,
      "outputs": [
        {
          "output_type": "stream",
          "name": "stdout",
          "text": [
            "Derivative of f(x): 8*x + 3\n"
          ]
        }
      ]
    },
    {
      "cell_type": "code",
      "source": [
        "# Chain rule\n",
        "f = sp.sin(sp.log(x))\n",
        "df = sp.diff(f, x)\n",
        "print(\"Chain Rule: \", df)"
      ],
      "metadata": {
        "colab": {
          "base_uri": "https://localhost:8080/"
        },
        "id": "gNjKTd4mn5WD",
        "outputId": "06938a73-488b-49a2-ac3e-338c800d3f80"
      },
      "execution_count": null,
      "outputs": [
        {
          "output_type": "stream",
          "name": "stdout",
          "text": [
            "Chain Rule:  cos(log(x))/x\n"
          ]
        }
      ]
    },
    {
      "cell_type": "code",
      "source": [
        "# Product rule\n",
        "f = sp.sin(x) * sp.cos(x)\n",
        "df = sp.diff(f, x)\n",
        "print(\"Product Rule: \", df)"
      ],
      "metadata": {
        "colab": {
          "base_uri": "https://localhost:8080/"
        },
        "id": "91UJ1qWMok0j",
        "outputId": "3fe76b4e-0326-4f86-b0ee-3c4d368d784b"
      },
      "execution_count": null,
      "outputs": [
        {
          "output_type": "stream",
          "name": "stdout",
          "text": [
            "Product Rule:  -sin(x)**2 + cos(x)**2\n"
          ]
        }
      ]
    },
    {
      "cell_type": "code",
      "source": [
        "# Quotient rule\n",
        "f = sp.log(x) / x\n",
        "df = sp.diff(f, x)\n",
        "print(\"Quotient rule: \", df)"
      ],
      "metadata": {
        "colab": {
          "base_uri": "https://localhost:8080/"
        },
        "id": "QJO9QDsvo3um",
        "outputId": "5e349379-94a1-4692-9714-867392e114aa"
      },
      "execution_count": null,
      "outputs": [
        {
          "output_type": "stream",
          "name": "stdout",
          "text": [
            "Quotient rule:  -log(x)/x**2 + x**(-2)\n"
          ]
        }
      ]
    },
    {
      "cell_type": "code",
      "source": [
        "# Higher Order derivative\n",
        "f = sp.sin(x)\n",
        "df = sp.diff(f, x, 2) # third parameter is order\n",
        "print(\"Second order derivative: \", df)"
      ],
      "metadata": {
        "colab": {
          "base_uri": "https://localhost:8080/"
        },
        "id": "nErIUTK4pNBZ",
        "outputId": "4fcb9423-bec2-4487-dd63-fdf6d56bc0d6"
      },
      "execution_count": null,
      "outputs": [
        {
          "output_type": "stream",
          "name": "stdout",
          "text": [
            "Second order derivative:  -sin(x)\n"
          ]
        }
      ]
    },
    {
      "cell_type": "markdown",
      "source": [
        "##Integration"
      ],
      "metadata": {
        "id": "seriyQSasDn_"
      }
    },
    {
      "cell_type": "code",
      "source": [
        "# Integration\n",
        "f = 1 / x\n",
        "ig = sp.integrate(f, x)\n",
        "print(\"Integral of f(x): \", ig)"
      ],
      "metadata": {
        "colab": {
          "base_uri": "https://localhost:8080/"
        },
        "id": "Xt1v5Riypu4I",
        "outputId": "522d8607-046e-461d-ce18-a36f4b220216"
      },
      "execution_count": null,
      "outputs": [
        {
          "output_type": "stream",
          "name": "stdout",
          "text": [
            "Integral of f(x):  log(x)\n"
          ]
        }
      ]
    },
    {
      "cell_type": "code",
      "source": [
        "# Definite integral (limits applied)\n",
        "f = 1 / x\n",
        "df_ig = sp.integrate(f, (x, 1, 2)) # last parameters are limits\n",
        "print(\"Integral of f(x) from 1 to 2: \", df_ig)"
      ],
      "metadata": {
        "colab": {
          "base_uri": "https://localhost:8080/"
        },
        "id": "ZJmHAbeNqC2b",
        "outputId": "83bc75b2-ebab-454f-fdd9-f5cca5078fbc"
      },
      "execution_count": null,
      "outputs": [
        {
          "output_type": "stream",
          "name": "stdout",
          "text": [
            "Integral of f(x) from 1 to 2:  log(2)\n"
          ]
        }
      ]
    },
    {
      "cell_type": "markdown",
      "source": [
        "##Partial Derivatives"
      ],
      "metadata": {
        "id": "M9Mk_-6nsHLl"
      }
    },
    {
      "cell_type": "code",
      "source": [
        "# Partial derivatives ( Multivariable )\n",
        "x, y = sp.symbols('x y')\n",
        "\n",
        "f = x**2 + y**2 - 2*x*y\n",
        "\n",
        "df_dx = sp.diff(f, x)\n",
        "df_dy = sp.diff(f, y)\n",
        "\n",
        "print(\"df / dx: \", df_dx)\n",
        "print(\"df / dy: \", df_dy)"
      ],
      "metadata": {
        "colab": {
          "base_uri": "https://localhost:8080/"
        },
        "id": "gG2js_rzqr4B",
        "outputId": "e9dd5460-49ff-44b4-9f9f-b0c30853b4ab"
      },
      "execution_count": null,
      "outputs": [
        {
          "output_type": "stream",
          "name": "stdout",
          "text": [
            "df / dx:  2*x - 2*y\n",
            "df / dy:  -2*x + 2*y\n"
          ]
        }
      ]
    },
    {
      "cell_type": "markdown",
      "source": [
        "##Gradient"
      ],
      "metadata": {
        "id": "ayleSGuWsLfo"
      }
    },
    {
      "cell_type": "code",
      "source": [
        "# Gradient / Slope of function\n",
        "f = x**2 + y - x*y\n",
        "\n",
        "gradient = [sp.diff(f, var) for var in (x, y)]\n",
        "print(\"Gradient: \", gradient)"
      ],
      "metadata": {
        "colab": {
          "base_uri": "https://localhost:8080/"
        },
        "id": "IFlY47Ugrgca",
        "outputId": "7e1e1e0e-0315-4b37-ddb3-335658b92af7"
      },
      "execution_count": null,
      "outputs": [
        {
          "output_type": "stream",
          "name": "stdout",
          "text": [
            "Gradient:  [2*x - y, 1 - x]\n"
          ]
        }
      ]
    },
    {
      "cell_type": "code",
      "source": [
        "# Gradient Descent ( Manual Implementation )\n",
        "\n",
        "# Minimise f(x) = (x - 3)^2\n",
        "def f(x):\n",
        "  return (x - 3)**2\n",
        "\n",
        "def df(x): # derivative\n",
        "  return 2 * (x - 3)\n",
        "\n",
        "x = 0 # initial guess\n",
        "lr = 0.1 # learning rate\n",
        "\n",
        "for i in range(10):\n",
        "  x = x - lr * df(x)\n",
        "  print(f\"Step{i+1}: x = {x:0.4f}, f(x) = {f(x):0.4f}\")\n"
      ],
      "metadata": {
        "colab": {
          "base_uri": "https://localhost:8080/"
        },
        "id": "0bFEmXknsQ_9",
        "outputId": "007f3341-326a-4789-ca06-8cb3309b7f2c"
      },
      "execution_count": null,
      "outputs": [
        {
          "output_type": "stream",
          "name": "stdout",
          "text": [
            "Step1: x = 0.6000, f(x) = 5.7600\n",
            "Step2: x = 1.0800, f(x) = 3.6864\n",
            "Step3: x = 1.4640, f(x) = 2.3593\n",
            "Step4: x = 1.7712, f(x) = 1.5099\n",
            "Step5: x = 2.0170, f(x) = 0.9664\n",
            "Step6: x = 2.2136, f(x) = 0.6185\n",
            "Step7: x = 2.3709, f(x) = 0.3958\n",
            "Step8: x = 2.4967, f(x) = 0.2533\n",
            "Step9: x = 2.5973, f(x) = 0.1621\n",
            "Step10: x = 2.6779, f(x) = 0.1038\n"
          ]
        }
      ]
    },
    {
      "cell_type": "markdown",
      "source": [
        "## Cost function optimization"
      ],
      "metadata": {
        "id": "21xRvSrCAdC-"
      }
    },
    {
      "cell_type": "code",
      "source": [
        "import numpy as np"
      ],
      "metadata": {
        "id": "KkKdt6TeAXJ4"
      },
      "execution_count": null,
      "outputs": []
    },
    {
      "cell_type": "code",
      "source": [
        "# Training data\n",
        "X = np.array([1, 2, 3, 4, 5])\n",
        "y = np.array([2, 3, 6, 8, 10])"
      ],
      "metadata": {
        "id": "ZWrrUF1hAj2Y"
      },
      "execution_count": null,
      "outputs": []
    },
    {
      "cell_type": "code",
      "source": [
        "# Initialize weights\n",
        "w = 0\n",
        "lr = 0.01"
      ],
      "metadata": {
        "id": "s4Q6dBe9AuJn"
      },
      "execution_count": null,
      "outputs": []
    },
    {
      "cell_type": "code",
      "source": [
        "# Gradient Descent for 100 steps\n",
        "for i in range(100):\n",
        "  y_pred = X * w\n",
        "  error = y - y_pred\n",
        "  gradient = -2 * np.sum(X * error) / len(X)\n",
        "  w -= lr * gradient\n",
        "\n",
        "  if i % 10 == 0:\n",
        "    loss = np.mean(error**2)\n",
        "    print(f\"Step{i+1}, w: {w:0.4f}, Loss: {loss:0.4f}\")"
      ],
      "metadata": {
        "colab": {
          "base_uri": "https://localhost:8080/"
        },
        "id": "6FxUkyUHA7AN",
        "outputId": "6ffadd20-51e2-4fdd-dd78-287a79146144"
      },
      "execution_count": null,
      "outputs": [
        {
          "output_type": "stream",
          "name": "stdout",
          "text": [
            "Step1, w: 0.4320, Loss: 42.6000\n",
            "Step11, w: 1.8360, Loss: 0.4802\n",
            "Step21, w: 1.9530, Loss: 0.1875\n",
            "Step31, w: 1.9627, Loss: 0.1855\n",
            "Step41, w: 1.9636, Loss: 0.1855\n",
            "Step51, w: 1.9636, Loss: 0.1855\n",
            "Step61, w: 1.9636, Loss: 0.1855\n",
            "Step71, w: 1.9636, Loss: 0.1855\n",
            "Step81, w: 1.9636, Loss: 0.1855\n",
            "Step91, w: 1.9636, Loss: 0.1855\n"
          ]
        }
      ]
    },
    {
      "cell_type": "code",
      "source": [],
      "metadata": {
        "id": "P3_d4058B47e"
      },
      "execution_count": null,
      "outputs": []
    }
  ]
}