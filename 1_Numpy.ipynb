{
 "cells": [
  {
   "cell_type": "code",
   "execution_count": 1,
   "id": "52eac00b-1d8b-4136-bde9-979b7d74e823",
   "metadata": {},
   "outputs": [],
   "source": [
    "import numpy as np"
   ]
  },
  {
   "cell_type": "code",
   "execution_count": 2,
   "id": "8a4bf887-72a4-4580-b063-8030dc793e88",
   "metadata": {},
   "outputs": [],
   "source": [
    "from time import process_time"
   ]
  },
  {
   "cell_type": "code",
   "execution_count": 3,
   "id": "c06fcd89-318d-491e-8fe6-208ad458406e",
   "metadata": {},
   "outputs": [
    {
     "name": "stdout",
     "output_type": "stream",
     "text": [
      "0.004081999999999919\n"
     ]
    }
   ],
   "source": [
    "python_list = [i for i in range(100000)]\n",
    "\n",
    "start_time = process_time()\n",
    "\n",
    "python_list = [i+5 for i in python_list]\n",
    "\n",
    "end_time = process_time()\n",
    "\n",
    "print(end_time - start_time)"
   ]
  },
  {
   "cell_type": "code",
   "execution_count": 4,
   "id": "6d173cac-6493-40a2-977e-b84051523307",
   "metadata": {},
   "outputs": [
    {
     "name": "stdout",
     "output_type": "stream",
     "text": [
      "0.00013199999999979894\n"
     ]
    }
   ],
   "source": [
    "np_array = np.array([i for i in range(100000)])\n",
    "\n",
    "start_time = process_time()\n",
    "\n",
    "np_array += 5\n",
    "\n",
    "end_time = process_time()\n",
    "\n",
    "print(end_time - start_time)"
   ]
  },
  {
   "cell_type": "code",
   "execution_count": 5,
   "id": "4e279e5c-2b02-4578-9c08-4fff3ca55bff",
   "metadata": {},
   "outputs": [
    {
     "name": "stdout",
     "output_type": "stream",
     "text": [
      "[1, 2, 3, 4, 5]\n"
     ]
    },
    {
     "data": {
      "text/plain": [
       "list"
      ]
     },
     "execution_count": 5,
     "metadata": {},
     "output_type": "execute_result"
    }
   ],
   "source": [
    "# List\n",
    "\n",
    "list1 = [1,2,3,4,5]\n",
    "print(list1)\n",
    "type(list1)"
   ]
  },
  {
   "cell_type": "code",
   "execution_count": 6,
   "id": "9cac3a5f-4070-4cf2-a9a5-ec64faf88446",
   "metadata": {},
   "outputs": [
    {
     "name": "stdout",
     "output_type": "stream",
     "text": [
      "[1 2 3 4 5]\n"
     ]
    },
    {
     "data": {
      "text/plain": [
       "numpy.ndarray"
      ]
     },
     "execution_count": 6,
     "metadata": {},
     "output_type": "execute_result"
    }
   ],
   "source": [
    "np_array = np.array([1,2,3,4,5])\n",
    "print(np_array)\n",
    "type(np_array)"
   ]
  },
  {
   "cell_type": "code",
   "execution_count": 7,
   "id": "713c743e-ee53-4bc5-a517-efec300c0db1",
   "metadata": {},
   "outputs": [
    {
     "name": "stdout",
     "output_type": "stream",
     "text": [
      "[1 2 3 4 5]\n",
      "(5,)\n"
     ]
    }
   ],
   "source": [
    "# Creating a 1 Dimentional array\n",
    "\n",
    "a = np.array([1,2,3,4,5])\n",
    "print(a)\n",
    "print(a.shape)"
   ]
  },
  {
   "cell_type": "code",
   "execution_count": 8,
   "id": "46087631-f66b-4367-b099-8d0b757e268b",
   "metadata": {},
   "outputs": [
    {
     "name": "stdout",
     "output_type": "stream",
     "text": [
      "[[1 2 3 4 5]\n",
      " [6 7 8 9 0]]\n",
      "(2, 5)\n"
     ]
    }
   ],
   "source": [
    "b = np.array([(1,2,3,4,5),(6,7,8,9,0)])\n",
    "print(b)\n",
    "print(b.shape)"
   ]
  },
  {
   "cell_type": "code",
   "execution_count": 9,
   "id": "39ee9f94-fcf8-4d27-bb51-500c57e90cbe",
   "metadata": {},
   "outputs": [
    {
     "name": "stdout",
     "output_type": "stream",
     "text": [
      "[[1. 2. 3. 4.]\n",
      " [5. 6. 7. 8.]]\n"
     ]
    }
   ],
   "source": [
    "c = np.array([(1,2,3,4),(5,6,7,8)], dtype=float)\n",
    "print(c)"
   ]
  },
  {
   "cell_type": "code",
   "execution_count": 10,
   "id": "b04695da-73f3-469f-ac85-066c19b9d794",
   "metadata": {},
   "outputs": [
    {
     "name": "stdout",
     "output_type": "stream",
     "text": [
      "[[0. 0. 0. 0. 0.]\n",
      " [0. 0. 0. 0. 0.]\n",
      " [0. 0. 0. 0. 0.]\n",
      " [0. 0. 0. 0. 0.]]\n",
      "[[1. 1. 1.]\n",
      " [1. 1. 1.]\n",
      " [1. 1. 1.]]\n",
      "[[6 6 6 6]\n",
      " [6 6 6 6]\n",
      " [6 6 6 6]\n",
      " [6 6 6 6]\n",
      " [6 6 6 6]]\n",
      "[[1. 0. 0. 0.]\n",
      " [0. 1. 0. 0.]\n",
      " [0. 0. 1. 0.]\n",
      " [0. 0. 0. 1.]]\n"
     ]
    }
   ],
   "source": [
    "# Create a numpy array of zeros\n",
    "x = np.zeros((4,5)) #Array of 0\n",
    "print(x)\n",
    "y = np.ones((3,3)) #Array of 1\n",
    "print(y)\n",
    "z = np.full((5,4), 6) #Array of specified element\n",
    "print(z)\n",
    "i = np.eye(4) #Identity matrix of given order \n",
    "print(i)"
   ]
  },
  {
   "cell_type": "code",
   "execution_count": 11,
   "id": "c3224543-4e6e-4e66-9cfd-af9aef512696",
   "metadata": {},
   "outputs": [
    {
     "name": "stdout",
     "output_type": "stream",
     "text": [
      "[[0.71675251 0.56557484]\n",
      " [0.72830807 0.19863524]]\n",
      "[[17 12 13 16]\n",
      " [10 16 18 16]\n",
      " [12 11 14 14]]\n"
     ]
    }
   ],
   "source": [
    "# Creating numpy arrays with random values\n",
    "r = np.random.random((2,2)) # Random values b/w 0 and 1\n",
    "print(r)\n",
    "\n",
    "# Creating array of integers within a range\n",
    "ir = np.random.randint(10, 20, (3,4))\n",
    "print(ir)"
   ]
  },
  {
   "cell_type": "code",
   "execution_count": 12,
   "id": "947772f6-6d30-4232-af62-929e3a88b781",
   "metadata": {},
   "outputs": [
    {
     "name": "stdout",
     "output_type": "stream",
     "text": [
      "[10. 12. 14. 16. 18. 20.]\n",
      "[0 3 6 9]\n"
     ]
    }
   ],
   "source": [
    "# Creating array of evenly spaced values -> dividing into parts\n",
    "d = np.linspace(10, 20, 6)\n",
    "print(d)\n",
    "\n",
    "# Creating array of evenly spaced values -> steps\n",
    "sd = np.arange(0, 10, 3)\n",
    "print(sd)"
   ]
  },
  {
   "cell_type": "code",
   "execution_count": 13,
   "id": "c854cd37-19ab-4204-805a-a785684498dd",
   "metadata": {},
   "outputs": [
    {
     "name": "stdout",
     "output_type": "stream",
     "text": [
      "[10 20 30 40 50 60]\n"
     ]
    },
    {
     "data": {
      "text/plain": [
       "numpy.ndarray"
      ]
     },
     "execution_count": 13,
     "metadata": {},
     "output_type": "execute_result"
    }
   ],
   "source": [
    "# Convertion of list or tuple\n",
    "list2 = [10,20,30,40,50,60]\n",
    "\n",
    "np_array2 = np.asarray(list2)\n",
    "print(np_array2)\n",
    "type(np_array2)"
   ]
  },
  {
   "cell_type": "code",
   "execution_count": 14,
   "id": "02e5b31b-bff5-464c-96cc-1ce9229f4839",
   "metadata": {},
   "outputs": [
    {
     "name": "stdout",
     "output_type": "stream",
     "text": [
      "[[81 55 71 23 15]\n",
      " [80 62 47 79 78]\n",
      " [80 30 58 29 21]\n",
      " [77 87 75 52 41]\n",
      " [38 59 23 15 42]]\n",
      "(5, 5)\n",
      "int64\n",
      "2\n",
      "25\n"
     ]
    }
   ],
   "source": [
    "# Analysing a numpy array\n",
    "\n",
    "c = np.random.randint(10, 90, (5,5))\n",
    "print(c)\n",
    "\n",
    "print(c.shape)  #order\n",
    "print(c.dtype)  #datatype\n",
    "print(c.ndim)   #dimention\n",
    "print(c.size)   #no: of elements"
   ]
  },
  {
   "cell_type": "code",
   "execution_count": 15,
   "id": "790c5451-3efc-4ee8-a056-b089a1683927",
   "metadata": {},
   "outputs": [
    {
     "name": "stdout",
     "output_type": "stream",
     "text": [
      "[1, 2, 3, 4, 5, 6, 7, 8, 9, 10]\n"
     ]
    }
   ],
   "source": [
    "# \" + \" in list\n",
    "\n",
    "list_1 = [1,2,3,4,5]\n",
    "list_2 = [6,7,8,9,10]\n",
    "print(list_1 + list_2) #concatenation '+' in list"
   ]
  },
  {
   "cell_type": "code",
   "execution_count": 16,
   "id": "c9c4212b-c173-4ea2-8e6c-8526276d7655",
   "metadata": {},
   "outputs": [
    {
     "name": "stdout",
     "output_type": "stream",
     "text": [
      "[[4 7 2]\n",
      " [3 5 8]\n",
      " [2 0 2]]\n",
      "[[3 1 6]\n",
      " [3 4 2]\n",
      " [5 0 2]]\n",
      "[[ 7  8  8]\n",
      " [ 6  9 10]\n",
      " [ 7  0  4]]\n",
      "[[ 1  6 -4]\n",
      " [ 0  1  6]\n",
      " [-3  0  0]]\n",
      "[[12  7 12]\n",
      " [ 9 20 16]\n",
      " [10  0  4]]\n",
      "[[1.33333333 7.         0.33333333]\n",
      " [1.         1.25       4.        ]\n",
      " [0.4               nan 1.        ]]\n",
      "[[ 7  8  8]\n",
      " [ 6  9 10]\n",
      " [ 7  0  4]]\n",
      "[[ 1  6 -4]\n",
      " [ 0  1  6]\n",
      " [-3  0  0]]\n",
      "[[12  7 12]\n",
      " [ 9 20 16]\n",
      " [10  0  4]]\n",
      "[[1.33333333 7.         0.33333333]\n",
      " [1.         1.25       4.        ]\n",
      " [0.4               nan 1.        ]]\n"
     ]
    },
    {
     "name": "stderr",
     "output_type": "stream",
     "text": [
      "/var/folders/7_/x4pp4kc13qv5t27q0p9t_nkh0000gn/T/ipykernel_80051/2336386358.py:12: RuntimeWarning: invalid value encountered in divide\n",
      "  print(np_array_1 / np_array_2) # division '/'\n",
      "/var/folders/7_/x4pp4kc13qv5t27q0p9t_nkh0000gn/T/ipykernel_80051/2336386358.py:19: RuntimeWarning: invalid value encountered in divide\n",
      "  print(np.divide(np_array_1, np_array_2))\n"
     ]
    }
   ],
   "source": [
    "# Mathemetical operations on an Numpy Array\n",
    "\n",
    "np_array_1 = np.random.randint(0,10, (3,3))\n",
    "np_array_2 = np.random.randint(0,10, (3,3))\n",
    "\n",
    "print(np_array_1)\n",
    "print(np_array_2)\n",
    "\n",
    "print(np_array_1 + np_array_2) # addition '+'\n",
    "print(np_array_1 - np_array_2) # substraction '-'\n",
    "print(np_array_1 * np_array_2) # multiplication '*'\n",
    "print(np_array_1 / np_array_2) # division '/'\n",
    "\n",
    "# ---------------------------------------------------------\n",
    "\n",
    "print(np.add(np_array_1, np_array_2))\n",
    "print(np.subtract(np_array_1, np_array_2))\n",
    "print(np.multiply(np_array_1, np_array_2))\n",
    "print(np.divide(np_array_1, np_array_2))"
   ]
  },
  {
   "cell_type": "code",
   "execution_count": 20,
   "id": "d167b1f2-c73b-42cd-ae9c-8379b3a48edf",
   "metadata": {},
   "outputs": [
    {
     "name": "stdout",
     "output_type": "stream",
     "text": [
      "[[6 4 9]\n",
      " [2 2 5]]\n",
      "(2, 3)\n",
      "[[6 2]\n",
      " [4 2]\n",
      " [9 5]]\n",
      "[[6 2]\n",
      " [4 2]\n",
      " [9 5]]\n",
      "[[6 4 9 2 2 5]]\n",
      "[[6]\n",
      " [4]\n",
      " [9]\n",
      " [2]\n",
      " [2]\n",
      " [5]]\n"
     ]
    }
   ],
   "source": [
    "# Array Manipulation\n",
    "\n",
    "arr = np.random.randint(0, 10, (2,3))\n",
    "print(arr)\n",
    "print(arr.shape)\n",
    "\n",
    "# Transpose - 2 methods\n",
    "print(arr.T)\n",
    "print(np.transpose(arr))\n",
    "\n",
    "# Reshaping \n",
    "re_arr = np.reshape(arr, (1,6))\n",
    "print(re_arr)\n",
    "re_arr = np.reshape(arr, (6,1))\n",
    "print(re_arr)"
   ]
  },
  {
   "cell_type": "code",
   "execution_count": null,
   "id": "dc5642bf-90ab-4f37-94be-4f57fe440031",
   "metadata": {},
   "outputs": [],
   "source": []
  }
 ],
 "metadata": {
  "kernelspec": {
   "display_name": "Python [conda env:base] *",
   "language": "python",
   "name": "conda-base-py"
  },
  "language_info": {
   "codemirror_mode": {
    "name": "ipython",
    "version": 3
   },
   "file_extension": ".py",
   "mimetype": "text/x-python",
   "name": "python",
   "nbconvert_exporter": "python",
   "pygments_lexer": "ipython3",
   "version": "3.13.5"
  },
  "widgets": {
   "application/vnd.jupyter.widget-state+json": {
    "state": {},
    "version_major": 2,
    "version_minor": 0
   }
  }
 },
 "nbformat": 4,
 "nbformat_minor": 5
}
