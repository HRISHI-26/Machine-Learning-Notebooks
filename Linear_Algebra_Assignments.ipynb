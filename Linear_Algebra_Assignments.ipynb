{
  "nbformat": 4,
  "nbformat_minor": 0,
  "metadata": {
    "colab": {
      "provenance": [],
      "authorship_tag": "ABX9TyP96SzocHV6cPmAHoA/FoXx",
      "include_colab_link": true
    },
    "kernelspec": {
      "name": "python3",
      "display_name": "Python 3"
    },
    "language_info": {
      "name": "python"
    }
  },
  "cells": [
    {
      "cell_type": "markdown",
      "metadata": {
        "id": "view-in-github",
        "colab_type": "text"
      },
      "source": [
        "<a href=\"https://colab.research.google.com/github/HRISHI-26/Machine-Learning-Notebooks/blob/main/Linear_Algebra_Assignments.ipynb\" target=\"_parent\"><img src=\"https://colab.research.google.com/assets/colab-badge.svg\" alt=\"Open In Colab\"/></a>"
      ]
    },
    {
      "cell_type": "markdown",
      "source": [
        "#Linear Algebra Assignments\n",
        "\n",
        "1. Solve a set of problems involving vector and matrix operations.\n",
        "2. Submit a Jupyter Notebook with calculations of eigenvalues and eigenvectors for a given matrix."
      ],
      "metadata": {
        "id": "YKt_YjEbBKW0"
      }
    },
    {
      "cell_type": "markdown",
      "source": [
        "## Vector Operations - Using List"
      ],
      "metadata": {
        "id": "glFb8ixDER2X"
      }
    },
    {
      "cell_type": "markdown",
      "source": [
        "1. Basic vector and matrix operations"
      ],
      "metadata": {
        "id": "XPaGlsQiBZPp"
      }
    },
    {
      "cell_type": "code",
      "execution_count": null,
      "metadata": {
        "id": "aHGcTO5sBF9d"
      },
      "outputs": [],
      "source": [
        "vector_a = [1, 2, 3, 4, 5]\n",
        "vector_b = [10, 20, 30, 40, 50]\n",
        "\n",
        "scalar = 10"
      ]
    },
    {
      "cell_type": "code",
      "source": [
        "# Addition\n",
        "vector_sum = []\n",
        "\n",
        "for i in range(len(vector_a)):\n",
        "    vector_sum.append(vector_a[i] + vector_b[i])\n",
        "\n",
        "print(\"Sum:\", vector_sum)"
      ],
      "metadata": {
        "id": "IyOWb5jaBymG",
        "outputId": "1c20f43d-7d55-433a-b7c4-9f6e7b37b382",
        "colab": {
          "base_uri": "https://localhost:8080/"
        }
      },
      "execution_count": null,
      "outputs": [
        {
          "output_type": "stream",
          "name": "stdout",
          "text": [
            "Sum: [11, 22, 33, 44, 55]\n"
          ]
        }
      ]
    },
    {
      "cell_type": "code",
      "source": [
        "# Substraction\n",
        "vector_diff = []\n",
        "\n",
        "for i in range(len(vector_a)):\n",
        "  vector_diff.append(vector_a[i] - vector_b[i])\n",
        "\n",
        "print(\"Difference:\", vector_diff)"
      ],
      "metadata": {
        "id": "b5PBEvOKCBBh",
        "outputId": "a809e44f-1e58-4555-e1f2-b9575d11a0b1",
        "colab": {
          "base_uri": "https://localhost:8080/"
        }
      },
      "execution_count": null,
      "outputs": [
        {
          "output_type": "stream",
          "name": "stdout",
          "text": [
            "Difference: [-9, -18, -27, -36, -45]\n"
          ]
        }
      ]
    },
    {
      "cell_type": "code",
      "source": [
        "# Scalar Multiplication\n",
        "\n",
        "vector_spdt = []\n",
        "\n",
        "for i in range(len(vector_a)):\n",
        "  vector_spdt.append(vector_a[i] * scalar)\n",
        "\n",
        "print(\"Scalar Product:\", vector_spdt)"
      ],
      "metadata": {
        "id": "7_oK-oUdDNKh",
        "outputId": "dd18d850-f5ee-4555-86ae-1a22a2af6d41",
        "colab": {
          "base_uri": "https://localhost:8080/"
        }
      },
      "execution_count": null,
      "outputs": [
        {
          "output_type": "stream",
          "name": "stdout",
          "text": [
            "Scalar Product: [10, 20, 30, 40, 50]\n"
          ]
        }
      ]
    },
    {
      "cell_type": "markdown",
      "source": [
        "##Vector Operations - Using Numpy Array"
      ],
      "metadata": {
        "id": "GxjM8RG1ENOB"
      }
    },
    {
      "cell_type": "code",
      "source": [
        "import numpy as np"
      ],
      "metadata": {
        "id": "eppSeCKDD9mB"
      },
      "execution_count": null,
      "outputs": []
    },
    {
      "cell_type": "code",
      "source": [
        "vector_a_np = np.array(vector_a)\n",
        "vector_b_np = np.array(vector_b)"
      ],
      "metadata": {
        "id": "yuM6hgEaEaTp"
      },
      "execution_count": null,
      "outputs": []
    },
    {
      "cell_type": "code",
      "source": [
        "# Addition\n",
        "vector_sum = vector_a_np + vector_b_np\n",
        "print(\"Sum:\", vector_sum)\n",
        "\n",
        "vector_sum = np.add(vector_a_np, vector_b_np)\n",
        "print(\"Sum:\", vector_sum)"
      ],
      "metadata": {
        "id": "sQzZAFJpEgl6",
        "outputId": "5e7c89b6-da63-452f-a3c5-11e7d6fd4c67",
        "colab": {
          "base_uri": "https://localhost:8080/"
        }
      },
      "execution_count": null,
      "outputs": [
        {
          "output_type": "stream",
          "name": "stdout",
          "text": [
            "Sum: [11 22 33 44 55]\n",
            "Sum: [11 22 33 44 55]\n"
          ]
        }
      ]
    },
    {
      "cell_type": "code",
      "source": [
        "# Substraction\n",
        "vector_diff = vector_a_np - vector_b_np\n",
        "print(\"Difference:\", vector_diff)\n",
        "\n",
        "vector_diff = np.subtract(vector_a_np, vector_b_np)\n",
        "print(\"Difference:\", vector_diff)"
      ],
      "metadata": {
        "id": "8Y7veqbDEyD7",
        "outputId": "7dc120bd-38a7-4b53-a866-31039f38d470",
        "colab": {
          "base_uri": "https://localhost:8080/"
        }
      },
      "execution_count": null,
      "outputs": [
        {
          "output_type": "stream",
          "name": "stdout",
          "text": [
            "Difference: [ -9 -18 -27 -36 -45]\n",
            "Difference: [ -9 -18 -27 -36 -45]\n"
          ]
        }
      ]
    },
    {
      "cell_type": "code",
      "source": [
        "#  Scalar Multiplication\n",
        "scalar = 25\n",
        "\n",
        "vector_spdt = vector_a_np * scalar\n",
        "print(\"Scalar Product:\", vector_spdt)\n",
        "\n",
        "vector_spdt = np.multiply(vector_a_np, scalar)\n",
        "print(\"Scalar Product:\", vector_spdt)"
      ],
      "metadata": {
        "id": "dYwFlM0rFLFP",
        "outputId": "ef124ea9-5a0a-48bc-95f3-2e6ef97ca304",
        "colab": {
          "base_uri": "https://localhost:8080/"
        }
      },
      "execution_count": null,
      "outputs": [
        {
          "output_type": "stream",
          "name": "stdout",
          "text": [
            "Scalar Product: [ 25  50  75 100 125]\n",
            "Scalar Product: [ 25  50  75 100 125]\n"
          ]
        }
      ]
    },
    {
      "cell_type": "markdown",
      "source": [
        "##Matrix Operations - Using List"
      ],
      "metadata": {
        "id": "aezgaeKbkq4D"
      }
    },
    {
      "cell_type": "code",
      "source": [
        "matrix_a = [\n",
        "    [1, 2, 3],\n",
        "    [4, 5, 6],\n",
        "    [7, 8, 9]\n",
        "]\n",
        "\n",
        "matrix_b = [\n",
        "    [2, 4, 6],\n",
        "    [3, 6, 9],\n",
        "    [4, 8, 12]\n",
        "]"
      ],
      "metadata": {
        "id": "V63cS4BaFm1h"
      },
      "execution_count": null,
      "outputs": []
    },
    {
      "cell_type": "code",
      "source": [
        "# Addition\n",
        "matrix_sum = []\n",
        "for i in range(len(matrix_a)): # i: 0 1 2\n",
        "  row = []\n",
        "  for j in range(len(matrix_a[0])): # j: 0, 1, 2\n",
        "    row.append(matrix_a[i][j] + matrix_b[i][j])\n",
        "  matrix_sum.append(row)\n",
        "\n",
        "print(\"Sum:\", matrix_sum)"
      ],
      "metadata": {
        "id": "FD-QF-nslEI_",
        "outputId": "29844703-6120-46be-ecf3-0de0684da687",
        "colab": {
          "base_uri": "https://localhost:8080/"
        }
      },
      "execution_count": null,
      "outputs": [
        {
          "output_type": "stream",
          "name": "stdout",
          "text": [
            "Sum: [[3, 6, 9], [7, 11, 15], [11, 16, 21]]\n"
          ]
        }
      ]
    },
    {
      "cell_type": "code",
      "source": [
        "# Substraction\n",
        "matrix_diff = []\n",
        "for i in range(len(matrix_a)):\n",
        "  row = []\n",
        "  for j in range(len(matrix_a[0])):\n",
        "    row.append(matrix_a[i][j] - matrix_b[i][j])\n",
        "  matrix_diff.append(row)\n",
        "\n",
        "print(\"Difference:\", matrix_diff)"
      ],
      "metadata": {
        "id": "59nVpgc3l3_l",
        "outputId": "6bcf61d9-a763-4694-c9e4-3f174391f06a",
        "colab": {
          "base_uri": "https://localhost:8080/"
        }
      },
      "execution_count": null,
      "outputs": [
        {
          "output_type": "stream",
          "name": "stdout",
          "text": [
            "Difference: [[-1, -2, -3], [1, -1, -3], [3, 0, -3]]\n"
          ]
        }
      ]
    },
    {
      "cell_type": "code",
      "source": [
        "# Multiplication\n",
        "\n",
        "matrix_pdt = []\n",
        "for i in range(len(matrix_a)):\n",
        "  row = []\n",
        "  for j in range(len(matrix_a[0])):\n",
        "    pdt_sum = 0\n",
        "    for k in range(len(matrix_b)):\n",
        "      pdt_sum += matrix_a[i][k] * matrix_b[k][j]\n",
        "    row.append(pdt_sum)\n",
        "  matrix_pdt.append(row)\n",
        "\n",
        "print(\"Product:\",matrix_pdt)"
      ],
      "metadata": {
        "id": "-lSHq5YfnZS-",
        "outputId": "9c5c2429-d6a5-4bf7-8be9-0a803e3384d1",
        "colab": {
          "base_uri": "https://localhost:8080/"
        }
      },
      "execution_count": null,
      "outputs": [
        {
          "output_type": "stream",
          "name": "stdout",
          "text": [
            "Product: [[20, 40, 60], [47, 94, 141], [74, 148, 222]]\n"
          ]
        }
      ]
    },
    {
      "cell_type": "code",
      "source": [
        "# Transpose\n",
        "\n",
        "for i in range(len(matrix_a)):\n",
        "  for j in range(len(matrix_a)):\n",
        "    if i < j:\n",
        "      matrix_a[i][j],matrix_a[j][i]=matrix_a[j][i],matrix_a[i][j]\n",
        "\n",
        "print(matrix_a)"
      ],
      "metadata": {
        "id": "gJnylq7cpGlY",
        "outputId": "2594f996-db0a-4573-850a-ef249c6a8518",
        "colab": {
          "base_uri": "https://localhost:8080/"
        }
      },
      "execution_count": null,
      "outputs": [
        {
          "output_type": "stream",
          "name": "stdout",
          "text": [
            "[[1, 4, 7], [2, 5, 8], [3, 6, 9]]\n"
          ]
        }
      ]
    },
    {
      "cell_type": "code",
      "source": [
        "# Scalar Multiplication with matrix\n",
        "\n",
        "scalar = 20\n",
        "matrix_a = [\n",
        "    [1, 2, 3],\n",
        "    [2, 4, 6],\n",
        "    [9, 4, 5]\n",
        "]\n",
        "\n",
        "matrix_spdt = []\n",
        "\n",
        "for i in range(len(matrix_a)):\n",
        "  row = []\n",
        "  for j in range(len(matrix_a[0])):\n",
        "    row.append(scalar * matrix_a[i][j])\n",
        "  matrix_spdt.append(row)\n",
        "\n",
        "print(\"Scalar Product: \", matrix_spdt)"
      ],
      "metadata": {
        "id": "bWhEVixwobK8",
        "outputId": "f8f7a79d-a7ae-46dc-952e-d631d52a2c6d",
        "colab": {
          "base_uri": "https://localhost:8080/"
        }
      },
      "execution_count": null,
      "outputs": [
        {
          "output_type": "stream",
          "name": "stdout",
          "text": [
            "Scalar Product:  [[20, 40, 60], [40, 80, 120], [180, 80, 100]]\n"
          ]
        }
      ]
    },
    {
      "cell_type": "markdown",
      "source": [
        "##Matrix operations - Using Numpy Array"
      ],
      "metadata": {
        "id": "F54cGV1npr9W"
      }
    },
    {
      "cell_type": "code",
      "source": [
        "matrix_a = [\n",
        "    [1, 2, 3],\n",
        "    [4, 5, 6],\n",
        "    [7, 8, 9]\n",
        "]\n",
        "\n",
        "matrix_b = [\n",
        "    [2, 4, 6],\n",
        "    [3, 6, 9],\n",
        "    [4, 8, 12]\n",
        "]\n",
        "\n",
        "matrix_a_np = np.array(matrix_a)\n",
        "matrix_b_np = np.array(matrix_b)"
      ],
      "metadata": {
        "id": "xvKERHmjqAII"
      },
      "execution_count": null,
      "outputs": []
    },
    {
      "cell_type": "code",
      "source": [
        "# Addition\n",
        "print(\"Sum:\",matrix_a_np + matrix_b_np)\n",
        "print(\"Sum:\",np.add(matrix_a_np,matrix_b_np))"
      ],
      "metadata": {
        "id": "OfnL0WaJqeYM",
        "outputId": "e1ae4e6a-4f52-4764-f701-b8eeebd082a1",
        "colab": {
          "base_uri": "https://localhost:8080/"
        }
      },
      "execution_count": null,
      "outputs": [
        {
          "output_type": "stream",
          "name": "stdout",
          "text": [
            "Sum: [[ 3  6  9]\n",
            " [ 7 11 15]\n",
            " [11 16 21]]\n",
            "Sum: [[ 3  6  9]\n",
            " [ 7 11 15]\n",
            " [11 16 21]]\n"
          ]
        }
      ]
    },
    {
      "cell_type": "code",
      "source": [
        "# Substraction\n",
        "print(\"Sum:\",matrix_a_np - matrix_b_np)\n",
        "print(\"Sum:\",np.subtract(matrix_a_np,matrix_b_np))"
      ],
      "metadata": {
        "id": "U79P1oK8q7Tg",
        "outputId": "3d387b5a-f325-44a8-8515-c69ccaa0a553",
        "colab": {
          "base_uri": "https://localhost:8080/"
        }
      },
      "execution_count": null,
      "outputs": [
        {
          "output_type": "stream",
          "name": "stdout",
          "text": [
            "Sum: [[-1 -2 -3]\n",
            " [ 1 -1 -3]\n",
            " [ 3  0 -3]]\n",
            "Sum: [[-1 -2 -3]\n",
            " [ 1 -1 -3]\n",
            " [ 3  0 -3]]\n"
          ]
        }
      ]
    },
    {
      "cell_type": "code",
      "source": [
        "# Transpose\n",
        "print(\"Sum:\",matrix_a_np.T)\n",
        "print(\"Sum:\",np.transpose(matrix_a_np))"
      ],
      "metadata": {
        "id": "AH2z6Qk2rC5J",
        "outputId": "794c5df4-14d0-4789-fec5-f13b893fce5d",
        "colab": {
          "base_uri": "https://localhost:8080/"
        }
      },
      "execution_count": null,
      "outputs": [
        {
          "output_type": "stream",
          "name": "stdout",
          "text": [
            "Sum: [[1 4 7]\n",
            " [2 5 8]\n",
            " [3 6 9]]\n",
            "Sum: [[1 4 7]\n",
            " [2 5 8]\n",
            " [3 6 9]]\n"
          ]
        }
      ]
    },
    {
      "cell_type": "code",
      "source": [
        "# Scalar Multiplication\n",
        "scalar = 25\n",
        "\n",
        "print(\"Scalar Product:\", scalar * matrix_a_np)\n",
        "print(\"Scalar Product:\", np.multiply(scalar, matrix_a_np))"
      ],
      "metadata": {
        "id": "yLEyukTerRWP",
        "outputId": "65aa5425-be75-45c5-b3fe-32802be5a03f",
        "colab": {
          "base_uri": "https://localhost:8080/"
        }
      },
      "execution_count": null,
      "outputs": [
        {
          "output_type": "stream",
          "name": "stdout",
          "text": [
            "Scalar Product: [[ 25  50  75]\n",
            " [100 125 150]\n",
            " [175 200 225]]\n",
            "Scalar Product: [[ 25  50  75]\n",
            " [100 125 150]\n",
            " [175 200 225]]\n"
          ]
        }
      ]
    },
    {
      "cell_type": "code",
      "source": [
        "# Matrix Multiplication\n",
        "\n",
        "# Dot product and matrix multiplication are sometimes samedepending upon dimension\n",
        "\n",
        "print(\"Product: \", np.matmul(matrix_a_np, matrix_b_np))\n",
        "\n",
        "print(\"Dot Product: \", np.dot(matrix_a_np, matrix_b_np))\n",
        "print(\"Dot Product: \", matrix_a_np @ matrix_b_np)"
      ],
      "metadata": {
        "id": "2qX4awCPuiH_",
        "outputId": "1052767d-6670-4a37-f97c-2eba649f6987",
        "colab": {
          "base_uri": "https://localhost:8080/"
        }
      },
      "execution_count": null,
      "outputs": [
        {
          "output_type": "stream",
          "name": "stdout",
          "text": [
            "Product:  [[ 20  40  60]\n",
            " [ 47  94 141]\n",
            " [ 74 148 222]]\n",
            "Dot Product:  [[ 20  40  60]\n",
            " [ 47  94 141]\n",
            " [ 74 148 222]]\n",
            "Dot Product:  [[ 20  40  60]\n",
            " [ 47  94 141]\n",
            " [ 74 148 222]]\n"
          ]
        }
      ]
    },
    {
      "cell_type": "markdown",
      "source": [
        "##Calculating Eigen values and Eigen vectors - Using List"
      ],
      "metadata": {
        "id": "jEoWooCmvpjV"
      }
    },
    {
      "cell_type": "code",
      "source": [
        "import math"
      ],
      "metadata": {
        "id": "XRtgYirHxVmv"
      },
      "execution_count": null,
      "outputs": []
    },
    {
      "cell_type": "code",
      "source": [
        "#  Solving Equations\n",
        "# 3x + 5y = 10\n",
        "# 2x + 6y = 6\n",
        "\n",
        "matrix = [[3, 5],[2, 6]]\n",
        "\n",
        "def find_eigen(matrix):\n",
        "  a, b = matrix[0]\n",
        "  c, d = matrix[1]\n",
        "\n",
        "  trace = a + d\n",
        "  determinent = a*d - b*c\n",
        "\n",
        "  discriminant = trace**2 - 4*determinent\n",
        "\n",
        "  if discriminant < 0:\n",
        "        return \"Complex value.....\"\n",
        "  sqrt_desc = math.sqrt(discriminant)\n",
        "\n",
        "  lambda1 = (trace + sqrt_desc)/2\n",
        "  lambda2 = (trace - sqrt_desc)/2\n",
        "\n",
        "  eigenvalue = [lambda1, lambda2]\n",
        "\n",
        "  eigenvector = []\n",
        "\n",
        "  for lam in eigenvalue:\n",
        "    A_minus_lambda_I = [\n",
        "        [a-lam, b],\n",
        "        [c, d-lam]\n",
        "    ]\n",
        "\n",
        "    if b != 0:\n",
        "      x = -(a-lam) / b\n",
        "      eigenvector.append([x, 1])\n",
        "    elif c != 0:\n",
        "      y = -(d-lam) / c\n",
        "      eigenvector.append([1, y])\n",
        "    else:\n",
        "      eigenvector.append([1, 0])\n",
        "\n",
        "  return eigenvalue, eigenvector\n",
        "\n",
        "eigenvalue, eigenvector = find_eigen(matrix)\n",
        "print(\"Eigen values: \", eigenvalue)\n",
        "print(\"Eigen vector: \", eigenvector)"
      ],
      "metadata": {
        "colab": {
          "base_uri": "https://localhost:8080/"
        },
        "id": "gqia4APsvyYD",
        "outputId": "6498afda-a9e3-4a6a-b42b-8021d7544223"
      },
      "execution_count": null,
      "outputs": [
        {
          "output_type": "stream",
          "name": "stdout",
          "text": [
            "Eigen values:  [8.0, 1.0]\n",
            "Eigen vector:  [[1.0, 1], [-0.4, 1]]\n"
          ]
        }
      ]
    }
  ]
}