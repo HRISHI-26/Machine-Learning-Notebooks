{
 "cells": [
  {
   "cell_type": "code",
   "execution_count": 1,
   "id": "0f811bf3-0ddb-42ab-a44e-f13c90e55add",
   "metadata": {},
   "outputs": [
    {
     "name": "stdout",
     "output_type": "stream",
     "text": [
      "['Python', 'C', 'Java']\n"
     ]
    }
   ],
   "source": [
    "# List Declaration\n",
    "languages = [ \"Python\", \"C\", \"Java\"]\n",
    "\n",
    "print(languages)"
   ]
  },
  {
   "cell_type": "code",
   "execution_count": 2,
   "id": "96a19a29-4ebb-45af-ab6a-b94ad657af55",
   "metadata": {},
   "outputs": [
    {
     "name": "stdout",
     "output_type": "stream",
     "text": [
      "C\n",
      "C\n",
      "['Python', 'C']\n",
      "['Python', 'C']\n",
      "['Python', 'C', 'Java']\n",
      "['Python', 'C', 'Java']\n"
     ]
    }
   ],
   "source": [
    "# Accessing List elements\n",
    "\n",
    "print(languages[1])\n",
    "print(languages[-2])\n",
    "print(languages[0:2])\n",
    "print(languages[-3:-1])\n",
    "print(languages[:])\n",
    "print(languages[0:])\n"
   ]
  },
  {
   "cell_type": "code",
   "execution_count": 3,
   "id": "1cbc1135-ee57-4471-87d2-98a73f142449",
   "metadata": {},
   "outputs": [
    {
     "name": "stdout",
     "output_type": "stream",
     "text": [
      "['Python', 'C++', 'Java']\n"
     ]
    }
   ],
   "source": [
    "# Change List element\n",
    "languages[1] = \"C++\"\n",
    "print(languages)"
   ]
  },
  {
   "cell_type": "code",
   "execution_count": 5,
   "id": "f9b83942-6195-416d-a66a-5f0e95d52a48",
   "metadata": {},
   "outputs": [
    {
     "name": "stdout",
     "output_type": "stream",
     "text": [
      "['Python', 'C++', 'Java', 'Hello', 'Hello']\n",
      "['Python', 'Dart', 'C++', 'Java', 'Hello', 'Hello']\n"
     ]
    }
   ],
   "source": [
    "languages.append(\"Hello\")\n",
    "print(languages)\n",
    "\n",
    "languages.insert(1, \"Dart\")\n",
    "print(languages)\n",
    "\n",
    "new_language = [\"JS\", \"Ts\"]\n",
    "languages.extend(new_language)"
   ]
  },
  {
   "cell_type": "code",
   "execution_count": null,
   "id": "798c5604-721d-4de7-a4d7-84b62afd9c2e",
   "metadata": {},
   "outputs": [],
   "source": []
  },
  {
   "cell_type": "code",
   "execution_count": null,
   "id": "de1c1c8a-4a0a-4eb3-9b95-5a5d805fec93",
   "metadata": {},
   "outputs": [],
   "source": []
  }
 ],
 "metadata": {
  "kernelspec": {
   "display_name": "Python [conda env:base] *",
   "language": "python",
   "name": "conda-base-py"
  },
  "language_info": {
   "codemirror_mode": {
    "name": "ipython",
    "version": 3
   },
   "file_extension": ".py",
   "mimetype": "text/x-python",
   "name": "python",
   "nbconvert_exporter": "python",
   "pygments_lexer": "ipython3",
   "version": "3.13.5"
  },
  "widgets": {
   "application/vnd.jupyter.widget-state+json": {
    "state": {},
    "version_major": 2,
    "version_minor": 0
   }
  }
 },
 "nbformat": 4,
 "nbformat_minor": 5
}
